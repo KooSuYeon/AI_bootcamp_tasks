{
 "cells": [
  {
   "cell_type": "markdown",
   "metadata": {},
   "source": [
    "### 뉴스 content를 LLM으로 요약해서 임베딩 후 벡터 저장"
   ]
  },
  {
   "cell_type": "code",
   "execution_count": 1,
   "metadata": {},
   "outputs": [
    {
     "name": "stdout",
     "output_type": "stream",
     "text": [
      "                                         title        created_at  \\\n",
      "0                        챗GPT 무단 사용 차단하는 도구 등장  2023.05.17 18:30   \n",
      "1     알트먼, SF 시장 당선자 인수위원장에 임명...\"머스크-트럼프와 흡사\"  2024.11.19 18:00   \n",
      "2  \"전시 샘플이라도 내달라\"...현장판매 요청에 진땀 흘린 온열 브랜드 '잉코'  2024.01.15 13:00   \n",
      "\n",
      "                                             content  \n",
      "0  '챗GPT'를 무단으로 사용하면 이를 감지해 차단해주는 보안 솔루션이 나왔다. 기업...  \n",
      "1  샘 알트먼 오픈AI CEO가 대니얼 루리 차기 샌프란시스코 시장을 돕게 됐다. 이는...  \n",
      "2  \"전시 중인 샘플까지 떼어갈 기세라 애를 먹었습니다. 다음에는 본격 현장 판매라도 ...  \n"
     ]
    }
   ],
   "source": [
    "import os\n",
    "import json\n",
    "import pandas as pd\n",
    "\n",
    "news_path = \"ai_news_json\"\n",
    "all_articles = pd.DataFrame()\n",
    "\n",
    "# 디렉터리 내 모든 .json 파일 읽기\n",
    "for filename in os.listdir(news_path):\n",
    "    if filename.endswith(\".json\"):  # .json 파일만 처리\n",
    "        file_path = os.path.join(news_path, filename)\n",
    "        \n",
    "        # 각 파일을 열어서 JSON 데이터 읽어오기\n",
    "        with open(file_path, 'r', encoding='utf-8') as file:\n",
    "            article_json = json.load(file)\n",
    "\n",
    "            article_df = pd.DataFrame([article_json])  # JSON을 DataFrame으로 변환\n",
    "            all_articles = pd.concat([all_articles, article_df], ignore_index=True)\n",
    "            \n",
    "\n",
    "# 결과 확인\n",
    "print(all_articles[:3])"
   ]
  },
  {
   "cell_type": "code",
   "execution_count": 2,
   "metadata": {},
   "outputs": [],
   "source": [
    "def save_file(txt:str, file_name:str):\n",
    "\n",
    "    with open(file_name, 'w', encoding='utf-8') as content_file:\n",
    "        content_file.write(txt)\n",
    "\n",
    "    print(f\"TEXT 파일 저장 완료: {file_name}\")"
   ]
  },
  {
   "cell_type": "code",
   "execution_count": 3,
   "metadata": {},
   "outputs": [
    {
     "data": {
      "text/plain": [
       "0     '챗GPT'를 무단으로 사용하면 이를 감지해 차단해주는 보안 솔루션이 나왔다. 기업...\n",
       "1     샘 알트먼 오픈AI CEO가 대니얼 루리 차기 샌프란시스코 시장을 돕게 됐다. 이는...\n",
       "2     \"전시 중인 샘플까지 떼어갈 기세라 애를 먹었습니다. 다음에는 본격 현장 판매라도 ...\n",
       "3     LG AI 연구원이 세계 최고 수준의 '바이오 케미컬 대형언어모델(LLM)'을 만들...\n",
       "4     인공지능(AI) 전문 솔트룩스(대표 이경일)는 기업 콘텐츠 관리 분야 대형언어모델(...\n",
       "                            ...                        \n",
       "95                AI타임스 조예주 기자 joyejuoffice@aitimes.com\n",
       "96    융복합 콘텐츠 전문 상화(대표 정범준)는 서울시가 진행하는 '플레이어블 서울 프로젝...\n",
       "97    1세대 의료 인공지능(AI) 전문 딥노이드(대표 최우식)는 '제50차 대한암학회 학...\n",
       "98                AI타임스 조예주 기자 joyejuoffice@aitimes.com\n",
       "99    이스트소프트(대표 정상원)가 올해 새롭게 론칭한 인공지능(AI) 휴먼 서비스로 성장...\n",
       "Name: content, Length: 100, dtype: object"
      ]
     },
     "execution_count": 3,
     "metadata": {},
     "output_type": "execute_result"
    }
   ],
   "source": [
    "raw_articles = all_articles.loc[:99, \"content\"]\n",
    "raw_articles"
   ]
  },
  {
   "cell_type": "code",
   "execution_count": 4,
   "metadata": {},
   "outputs": [
    {
     "name": "stdout",
     "output_type": "stream",
     "text": [
      "TEXT 파일 저장 완료: raw_text.txt\n"
     ]
    }
   ],
   "source": [
    "save_file('\\n\\n'.join(raw_articles), \"raw_text.txt\")"
   ]
  },
  {
   "cell_type": "code",
   "execution_count": 5,
   "metadata": {},
   "outputs": [
    {
     "data": {
      "text/plain": [
       "0     '챗GPT'를 무단으로 사용하면 이를 감지해 차단해주는 보안 솔루션이 나왔다. 기업...\n",
       "1     샘 알트먼 오픈AI CEO가 대니얼 루리 차기 샌프란시스코 시장을 돕게 됐다. 이는...\n",
       "2     \"전시 중인 샘플까지 떼어갈 기세라 애를 먹었습니다. 다음에는 본격 현장 판매라도 ...\n",
       "3     LG AI 연구원이 세계 최고 수준의 '바이오 케미컬 대형언어모델(LLM)'을 만들...\n",
       "4     인공지능(AI) 전문 솔트룩스(대표 이경일)는 기업 콘텐츠 관리 분야 대형언어모델(...\n",
       "                            ...                        \n",
       "95                AI타임스 조예주 기자 joyejuoffice@aitimes.com\n",
       "96    융복합 콘텐츠 전문 상화(대표 정범준)는 서울시가 진행하는 '플레이어블 서울 프로젝...\n",
       "97    1세대 의료 인공지능(AI) 전문 딥노이드(대표 최우식)는 '제50차 대한암학회 학...\n",
       "98                AI타임스 조예주 기자 joyejuoffice@aitimes.com\n",
       "99    이스트소프트(대표 정상원)가 올해 새롭게 론칭한 인공지능(AI) 휴먼 서비스로 성장...\n",
       "Name: content, Length: 100, dtype: object"
      ]
     },
     "execution_count": 5,
     "metadata": {},
     "output_type": "execute_result"
    }
   ],
   "source": [
    "summerized_articles = raw_articles.copy()\n",
    "summerized_articles"
   ]
  },
  {
   "cell_type": "code",
   "execution_count": 6,
   "metadata": {},
   "outputs": [],
   "source": [
    "import os\n",
    "from dotenv import load_dotenv\n",
    "\n",
    "load_dotenv() \n",
    "api_key = os.getenv(\"OPEN_API_KEY\")"
   ]
  },
  {
   "cell_type": "code",
   "execution_count": 7,
   "metadata": {},
   "outputs": [],
   "source": [
    "from langchain_openai import ChatOpenAI\n",
    "from langchain_core.messages import HumanMessage\n",
    "\n",
    "# 모델 초기화\n",
    "model = ChatOpenAI(temperature=0, model=\"gpt-4o-mini\", api_key=api_key)"
   ]
  },
  {
   "cell_type": "code",
   "execution_count": 8,
   "metadata": {},
   "outputs": [],
   "source": [
    "from langchain_openai import ChatOpenAI\n",
    "from langchain.schema import SystemMessage, HumanMessage, AIMessage\n",
    "\n",
    "def make_summerized_content(content:str) -> str:\n",
    "    system_message = SystemMessage(content=\"You are a summerizing AI. Please answer in Korean. Please reply only based inputs.\")\n",
    "    messages = [system_message]\n",
    "\n",
    "    messages.append(HumanMessage(content=content))\n",
    "    response = model.invoke(messages)\n",
    "    \n",
    "    reply = response.content\n",
    "    messages.append(AIMessage(content=reply))\n",
    "\n",
    "    return reply"
   ]
  },
  {
   "cell_type": "code",
   "execution_count": 9,
   "metadata": {},
   "outputs": [
    {
     "data": {
      "text/plain": [
       "0     챗GPT의 무단 사용을 감지하고 차단하는 보안 솔루션 '트러스트 제로'가 출시됐다....\n",
       "1     샘 알트먼 오픈AI CEO가 대니얼 루리 차기 샌프란시스코 시장의 인수위원회 공동 ...\n",
       "2     파루 인쇄전자는 CES 2024에서 프리미엄 온열 브랜드 '잉코(INKO)' 제품을...\n",
       "3     LG AI 연구원이 세계 최고 수준의 '바이오 케미컬 대형언어모델(LLM)' 개발을...\n",
       "4     인공지능 전문 기업 솔트룩스가 문서중앙화 전문 기업 사이버다임과 업무협약을 체결했다...\n",
       "                            ...                        \n",
       "95    조예주 기자는 AI타임스에서 활동하고 있으며, 이메일 주소는 joyejuoffice...\n",
       "96    융복합 콘텐츠 전문 상화(대표 정범준)는 서울시의 '플레이어블 서울 프로젝트'에서 ...\n",
       "97    딥노이드가 '제50차 대한암학회 학술대회(KCA 2024)'에서 최우수 포스터상을 ...\n",
       "98    조예주 기자는 AI타임스에서 활동하고 있으며, 이메일 주소는 joyejuoffice...\n",
       "99    이스트소프트가 AI 휴먼 서비스로 성장세를 이어가고 있으며, 2023년 2분기 매출...\n",
       "Name: content, Length: 100, dtype: object"
      ]
     },
     "execution_count": 9,
     "metadata": {},
     "output_type": "execute_result"
    }
   ],
   "source": [
    "for i in range(len(summerized_articles)):\n",
    "    summerized_articles[i] = make_summerized_content(summerized_articles[i])\n",
    "\n",
    "summerized_articles"
   ]
  },
  {
   "cell_type": "code",
   "execution_count": 10,
   "metadata": {},
   "outputs": [
    {
     "name": "stdout",
     "output_type": "stream",
     "text": [
      "TEXT 파일 저장 완료: summerized_text.txt\n"
     ]
    }
   ],
   "source": [
    "save_file('\\n\\n'.join(summerized_articles), \"summerized_text.txt\")"
   ]
  },
  {
   "cell_type": "code",
   "execution_count": 13,
   "metadata": {},
   "outputs": [],
   "source": [
    "from langchain_openai import OpenAIEmbeddings\n",
    "from langchain_community.vectorstores import FAISS\n",
    "from langchain_text_splitters import RecursiveCharacterTextSplitter\n",
    "from langchain.schema import Document\n",
    "\n",
    "def get_retriever(texts:str):\n",
    "\n",
    "    # text_list를 Document 객체로 변환\n",
    "    documents = [Document(page_content=texts)]\n",
    "\n",
    "    recursive_text_splitter = RecursiveCharacterTextSplitter(\n",
    "    chunk_size=200,\n",
    "    chunk_overlap=20,\n",
    "    length_function=len,\n",
    "    is_separator_regex=False,\n",
    "    )\n",
    "\n",
    "    splits_recur = recursive_text_splitter.split_documents(documents)\n",
    "    splits = splits_recur\n",
    "\n",
    "    embeddings = OpenAIEmbeddings(model=\"text-embedding-ada-002\", api_key=api_key)\n",
    "    vectorstore = FAISS.from_documents(documents=splits, embedding=embeddings)\n",
    "\n",
    "    return vectorstore.as_retriever()\n"
   ]
  },
  {
   "cell_type": "code",
   "execution_count": 14,
   "metadata": {},
   "outputs": [],
   "source": [
    "raw_retriever = get_retriever('\\n\\n'.join(raw_articles))\n",
    "summerized_retriever = get_retriever('\\n\\n'.join(summerized_articles))"
   ]
  },
  {
   "cell_type": "code",
   "execution_count": 15,
   "metadata": {},
   "outputs": [
    {
     "name": "stdout",
     "output_type": "stream",
     "text": [
      "================= retriever 불러오기 완료  ===============\n",
      "================= rag_chain 불러오기 완료  ===============\n",
      "question: 대한민국 교육박람회에 대해 알려줘\n",
      "Debug Output: 대한민국 교육박람회에 대해 알려줘\n",
      "Debug Output: {'context': [Document(metadata={}, page_content=\"제21회 대한민국 교육박람회가 17일 서울 강남구 코엑스에서 시작되었으며, 19일까지 진행된다. 이번 행사에는 420개사가 참여하고, 아시아 최대 규모로 교육 트렌드와 에듀테크를 소개한다. '교육이 미래다'라는 주제로 AI, 메타버스, XR 기술이 접목된 다양한 솔루션이 선보였다. 구글의 '클래스룸'은 AI를 활용해 교사의 수업 준비와 학생 피드백을\"), Document(metadata={}, page_content='산업통상자원부는 판교 한국반도체산업협회에서 반도체아카데미 입교식을 개최했다고 밝혔다. 이번 행사에는 100여 명의 산학 관계자와 교육생이 참석했으며, 아카데미는 반도체 인력 부족 해소를 위해 실습 중심의 교육과정을 운영한다. 지난해 12월 출범한 아카데미는 현재까지 600명이 온라인 교육을 수강 중이며, 오프라인 심화 과정도 진행 중이다. 산업부 국장은'), Document(metadata={}, page_content='과정도 진행 중이다. 산업부 국장은 우수 인재 양성이 중요하다고 강조하며, 기업과 대학 간 협업의 필요성을 언급했다.'), Document(metadata={}, page_content=\"무대로 변신한다. 놀이존은 광화문 광장에 '빛의 놀이터'를 조성하며, 디지털 라이팅 기술을 활용한 전통 놀이 체험 콘텐츠를 제공한다. 정범준 대표는 서울의 즐거움과 매력을 알릴 기회로 삼겠다고 밝혔다.\")], 'question': '대한민국 교육박람회에 대해 알려줘'}\n",
      "RAG response : 제21회 대한민국 교육박람회는 17일 서울 강남구 코엑스에서 시작되어 19일까지 진행됩니다. 이번 행사에는 420개사가 참여하며, 아시아 최대 규모로 교육 트렌드와 에듀테크를 소개합니다. '교육이 미래다'라는 주제로 AI, 메타버스, XR 기술이 접목된 다양한 솔루션이 선보이고 있습니다.\n",
      "question: 클로이에 대해 알려줘\n",
      "Debug Output: 클로이에 대해 알려줘\n",
      "Debug Output: {'context': [Document(metadata={}, page_content='제공하여 정보 검색 시간을 단축하고 업무 효율성을 높인다. 클라썸은 2018년 설립된 에듀테크 기업으로, 현재 32개국 1만1000여 개 기관에서 사용되고 있으며, 올해 말까지 무료 서비스를 제공할 예정이다. 이채린 대표는 AI 기술력을 통해 기업의 핵심 경쟁력을 강화할 것이라고 말했다.'), Document(metadata={}, page_content='클론 제작에 동의했는지는 알려지지 않았다. CAA의 알렉산드라 섀넌은 기술의 오용 문제를 언급하며, 창의성의 확대를 목표로 하고 있다고 밝혔다. 최근 할리우드에서는 AI에 대한 거부감이 줄어들고 있으며, 오픈AI와 메타 등 여러 AI 회사들이 제작사와 협력하고 있다. CAA는 윤리적으로 운영되는 회사와 협력하고 싶다고 강조하며, 이 분야에서의 경쟁이'), Document(metadata={}, page_content=\"융복합 콘텐츠 전문 상화(대표 정범준)는 서울시의 '플레이어블 서울 프로젝트'에서 '예술존'과 '놀이존' 사업자로 선정되었다. 이 프로젝트는 시민과 관광객이 체험형 콘텐츠를 즐길 수 있도록 하는 것으로, 예술존은 대학로 마로니에공원과 홍대 레드로드에 '그림자 무대'를 조성하여 운영한다. 낮에는 감성 포토존으로, 밤에는 그림자놀이 무대로 변신한다. 놀이존은\"), Document(metadata={}, page_content='비교 평가의 객관성을 환영하면서도, 모델의 정확한 사이즈와 비교 방법에 대한 의문을 제기했다. 유강민 네이버클라우드 리더는 하이퍼클로바X가 다국어 능력과 기계 번역 능력을 갖추고 있음을 강조했다.')], 'question': '클로이에 대해 알려줘'}\n",
      "RAG response : 제공된 컨텍스트에는 \"클로이\"에 대한 정보가 포함되어 있지 않습니다. 따라서 클로이에 대한 구체적인 내용을 제공할 수 없습니다.\n"
     ]
    }
   ],
   "source": [
    "print(\"================= retriever 불러오기 완료  ===============\")\n",
    "\n",
    "from langchain_core.prompts import ChatPromptTemplate\n",
    "from langchain_core.runnables import RunnablePassthrough\n",
    "from langchain_openai import ChatOpenAI\n",
    "\n",
    "# 모델 초기화\n",
    "model = ChatOpenAI(temperature=0, model=\"gpt-4o-mini\", api_key=api_key)\n",
    "\n",
    "contextual_prompt = ChatPromptTemplate.from_messages([\n",
    "    (\"system\", \"\"\"\n",
    "     Answer the question using only the following context.\n",
    "     \"\"\"),\n",
    "    (\"user\", \"Context: {context}\\\\n\\\\nQuestion: {question}\")\n",
    "])\n",
    "\n",
    "\n",
    "class DebugPassThrough(RunnablePassthrough):\n",
    "    def invoke(self, *args, **kwargs):\n",
    "        output = super().invoke(*args, **kwargs)\n",
    "        print(\"Debug Output:\", output)\n",
    "        return output\n",
    "    \n",
    "    \n",
    "# 문서 리스트를 텍스트로 변환하는 단계 추가\n",
    "class ContextToText(RunnablePassthrough):\n",
    "    def invoke(self, inputs, config=None, **kwargs):  # config 인수 추가\n",
    "        # context의 각 문서를 문자열로 결합\n",
    "        context_text = \"\\n\".join([doc.page_content for doc in inputs[\"context\"]])\n",
    "        return {\"context\": context_text, \"question\": inputs[\"question\"]}\n",
    "\n",
    "# RAG 체인에서 각 단계마다 DebugPassThrough 추가\n",
    "raw_rag_chain_debug = {\n",
    "    \"context\": raw_retriever,                    # 컨텍스트를 가져오는 retriever\n",
    "    \"question\": DebugPassThrough()        # 사용자 질문이 그대로 전달되는지 확인하는 passthrough\n",
    "}  | DebugPassThrough() | ContextToText()|   contextual_prompt | model\n",
    "\n",
    "\n",
    "# RAG 체인에서 각 단계마다 DebugPassThrough 추가\n",
    "summerized_rag_chain_debug = {\n",
    "    \"context\": summerized_retriever,                    # 컨텍스트를 가져오는 retriever\n",
    "    \"question\": DebugPassThrough()        # 사용자 질문이 그대로 전달되는지 확인하는 passthrough\n",
    "}  | DebugPassThrough() | ContextToText()|   contextual_prompt | model\n",
    "\n",
    "print(\"================= rag_chain 불러오기 완료  ===============\")\n",
    "\n",
    "while True:\n",
    "    query = input(\"질문을 입력하세요! 종료를 원한다면 exit을 입력하세요.\")\n",
    "    if query == \"exit\":\n",
    "        break\n",
    "    print(\"question: \" + query)\n",
    "    \n",
    "    response = summerized_rag_chain_debug.invoke(query)\n",
    "    print(\"RAG response : \" + response.content)"
   ]
  },
  {
   "cell_type": "code",
   "execution_count": null,
   "metadata": {},
   "outputs": [],
   "source": []
  }
 ],
 "metadata": {
  "kernelspec": {
   "display_name": "ai_model",
   "language": "python",
   "name": "python3"
  },
  "language_info": {
   "codemirror_mode": {
    "name": "ipython",
    "version": 3
   },
   "file_extension": ".py",
   "mimetype": "text/x-python",
   "name": "python",
   "nbconvert_exporter": "python",
   "pygments_lexer": "ipython3",
   "version": "3.12.7"
  }
 },
 "nbformat": 4,
 "nbformat_minor": 2
}
