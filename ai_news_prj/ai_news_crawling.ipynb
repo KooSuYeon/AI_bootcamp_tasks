{
 "cells": [
  {
   "cell_type": "markdown",
   "metadata": {},
   "source": [
    "### 정적 웹 크롤링\n",
    "- 총 10,000개의 뉴스 크롤링\n",
    "- 포함 범위 : 제목, 내용, 작성시간\n",
    "- 형식 : json\n"
   ]
  },
  {
   "cell_type": "code",
   "execution_count": 1,
   "metadata": {},
   "outputs": [
    {
     "name": "stdout",
     "output_type": "stream",
     "text": [
      "기사:\n",
      " ['https://www.aitimes.com/news/articleView.html?idxno=166150', 'https://www.aitimes.com/news/articleView.html?idxno=166125', 'https://www.aitimes.com/news/articleView.html?idxno=166142', 'https://www.aitimes.com/news/articleView.html?idxno=166148', 'https://www.aitimes.com/news/articleView.html?idxno=166124', 'https://www.aitimes.com/news/articleView.html?idxno=166127', 'https://www.aitimes.com/news/articleView.html?idxno=166128', 'https://www.aitimes.com/news/articleView.html?idxno=166134', 'https://www.aitimes.com/news/articleView.html?idxno=166135', 'https://www.aitimes.com/news/articleView.html?idxno=166137', 'https://www.aitimes.com/news/articleView.html?idxno=166138', 'https://www.aitimes.com/news/articleView.html?idxno=166140', 'https://www.aitimes.com/news/articleView.html?idxno=166141', 'https://www.aitimes.com/news/articleView.html?idxno=166144', 'https://www.aitimes.com/news/articleView.html?idxno=166145', 'https://www.aitimes.com/news/articleView.html?idxno=166146', 'https://www.aitimes.com/news/articleView.html?idxno=166143', 'https://www.aitimes.com/news/articleView.html?idxno=166139', 'https://www.aitimes.com/news/articleView.html?idxno=166136', 'https://www.aitimes.com/news/articleView.html?idxno=166130']\n"
     ]
    }
   ],
   "source": [
    "import requests\n",
    "from bs4 import BeautifulSoup\n",
    "import pandas as pd\n",
    "import json\n",
    "from typing import List, Dict\n",
    "\n",
    "import time\n",
    "\n",
    "def get_ai_news_info(page:int) -> list:\n",
    "\n",
    "    url = \"https://www.aitimes.com/news/articleList.html\"\n",
    "    root_url = \"https://www.aitimes.com\"\n",
    "\n",
    "    # total은 실시간 성으로 바뀌기 때문에 에러 방지를 위해 삭제함\n",
    "    params = {\"page\": page}\n",
    "\n",
    "    headers = {\n",
    "    'User-Agent': 'Mozilla/5.0 (Windows NT 10.0; Win64; x64) AppleWebKit/537.36 (KHTML, like Gecko) Chrome/120.0.0.0 Safari/537.36'\n",
    "    }\n",
    "\n",
    "\n",
    "    try:\n",
    "        response = requests.get(url, params=params, headers=headers)\n",
    "        soup = BeautifulSoup(response.text, 'html.parser')\n",
    "\n",
    "        articles = []\n",
    "        target_divs = soup.find_all(\"h4\", class_ = \"titles\")\n",
    "\n",
    "        for one in target_divs[:20]:\n",
    "\n",
    "            get_url = one.find(\"a\").get(\"href\")\n",
    "            articles.append(root_url + get_url)\n",
    "        response.raise_for_status()  # 오류가 있으면 예외를 발생시킴\n",
    "        return articles\n",
    "    except requests.exceptions.RequestException as e:\n",
    "        print(f\"페이지 {page} 요청 중 에러 발생: {e}\")\n",
    "\n",
    "# 테스트: 첫 페이지 가져오기\n",
    "html = get_ai_news_info(1)\n",
    "print(\"기사:\\n\", html)  # 처음 500자만 출력"
   ]
  },
  {
   "cell_type": "code",
   "execution_count": 2,
   "metadata": {},
   "outputs": [
    {
     "name": "stdout",
     "output_type": "stream",
     "text": [
      "지난 15일(현지시간) 일론 머스크 CEO가오픈AI를 상대로 소송을 확대하며 공개한 이메일에서 갖가지 이야기가 쏟아지고 있습니다. 우선 오픈AI가 설립된 배경이 머스크 CEO라는 것이 드러났습니다. 그는 무슨 이유에서인지딥마인드를 매우 경계한 것으로 알려졌습니다. 특히 데미스 허사비스 창립자가 인공일반지능(AGI)을 개발해 AI로 독재 체제를 구축하려는 것으로 판단, 이를 막으려는 의도로 딥마인드 인수에 나선 것으로 밝혀졌습니다.하지만 구글에 딥마인드를 빼앗기자, 이런 사실을 알고 있던 샘 알트먼 CEO가 경쟁사를 만들자고 제안한 것이 오픈AI의 설립으로 이어졌다는 것입니다. 그리고 초기 자금으로 5000만~1억달러가량을 투자하고, 사실상 초기 이사회장 역할을 담당했던 것으로 전해졌습니다. 더 버지의 19일 보도에는 알트먼 CEO가 머스크 CEO에게 이메일을 보내 결제를 받는 듯한 모습이 묘사됐습니다. 마이크로소프트(MS)가 일찌감치 오픈AI에 관심을 보였다는 것도 드러났습니다. MS는 오픈AI 설립 몇개월 뒤인 2016년 9월에 저렴한 가격에 컴퓨팅 인프라를 제공하고 5000만달러의 조건 없는 투자를 제안했으나, 머스크 CEO가 이를 거절했다는 것입니다. 특히 그 과정에 오고 간 대화가 충격적입니다. 알트먼 CEO는 \"MS가 '오픈AI의 단독 재량에 따른 선의의 노력'과 언제든지 완전한 상호 해지 권리를 보장하는 조건으로 전체 5000만 달러에 계약을 체결하겠다는 의사를 밝혀왔다\"라며 \"조건도 없고 MS의 마케팅 들러리로 보이지도 않는데, 계속 진행해도 되겠나\"라고 물었습니다. 그러나 머스크 CEO는 이런 제안이 MS의 마케팅에 이용당할 것이라며 \"매스껍다\"라고 답했습니다. 그리고 \"MS의 마이크로소프트의 마케팅 암캐( bitch)처럼 보이지 않는 것이 5000만달러보다 훨씬 더 가치가 있을 것\"이라고 쏘아붙였습니다. 이처럼 머스크 CEO는 초기 결제권을 쥔 사실상의 CEO 역할을 맡았고, 결국 2018년 2월 갈등으로 인해 오픈AI 이사회를 떠났습니다. 이 과정에서 알트먼 CEO도 공동 창립자인 그렉 브록먼 사장과 일리야 수츠케버 수석과학자로부터 공격받은 것으로 밝혀졌습니다. 이들은 두 CEO가 독재를 휘두르고 있다며, 도대체 왜 수장 역할에 집착하는지를 따졌다는 것입니다. 하지만 수츠케버 수석 등도 인재 영입을 위해 고액 연봉 패키지를 구성한다는 이유로 당시로서는 상상도 못할 190만달러의 연봉을 받은 것으로 전해졌습니다. 여기에 수츠케버 수석은 당시 신생 기업인 세레브라스를 인수하자며 머스크 CEO에게테슬라가 나서야 한다는 제안도 했습니다. 물론 이는 성사되지 않았습니다. 또 머스크 CEO는 이번 소송에서 오픈AI가고액 연봉으로 AI 업계 분위기를 흐려놓았다고 밝혔는데, 사실 이는 자신이 2016년 고액 연봉 패키지를 승인해 준 것이 시작으로 밝혀졌습니다. 그리고 그가 회사를 떠나자마자 MS가 투자를 시작한 점, 그리고 2023년 사상 초유의 100만달러 투자로도 연결된 것이 어떤 배경을 가졌는지도 엿볼 수 있습니다. 전문가들은 머스크 CEO가 자신에게도 도움될 것 없는 이런 시시콜콜한 문서까지 공개했는지에 대해 비슷한 결론을 내리고 있습니다. 현재 AI를 대표하는 세계적인 스타이며 인류를 위한 AGI를 개발하겠다는 오픈AI가 사실은 욕심과 갈등으로 뒤섞인 집단이라는 것을 강조하려는 의도라는 것입니다. 또 알트먼 CEO가 원하는 것을 위해서는 무엇이든 이용할 수 있다는 식의 이미지를 만들기 위한 것으로 보입니다. 그리고 머스크 CEO 자신은 이들의 욕심에 희생당했으며, 십여년 전부터 안전한 AGI 구축을 준비한 최적의 인물이라는 것을 강조하려는 것으로 보입니다. 사실 이번 소송은 법적으로 오픈AI에 불이익을 주기는 어렵다는 평입니다. 다만 세계적인 주목을 받는 인물들의 이야기라, 이런 식으로 이야기가 퍼져 나가는 것만으로도 충분한 효과를 볼 수 있다는 계산으로 파악됩니다. 물론 실제로 어떤 일이 일어났는지를 이메일만으로 판단할 수는 없습니다. 그리고 머스크 CEO 자신도 욕심이 많은 인물로 비칠 수 있습니다. 하지만 오픈AI와 xAI는 한정된 벤처 캐피털 시장을 두고 투자 유치 경쟁을 벌이는 상태입니다. 오픈AI의 이미지를 깎아내라고 알트먼 CEO의 평판을 무너뜨릴 수 있다면, 후발 주자인 xAI로서는 손해 볼 것이 없습니다. 이번 소송이오픈AI가 xAI 투자를 금지하는 요청이후 등장했다는 것이 그 증거입니다. 그만큼 AGI에 먼저 도달하려는 두 회사의 의지가 대단한 것으로 볼 수 있습니다. 이어 18일 주요 뉴스입니다. ■엔비디아 '블랙웰' 서버 과열 문제 지적...\"H100 복귀까지 검토\" 설계 결함으로 생산이 늦춰진 '블랙웰'이 이번에는 과열 문제로 논란입니다. 이 때문에 블렉웰을 공급받을 기업들은 서버가 제때 갖춰질지 우려하는 것으로 알려졌습니다. 특히 일부는 문제가 없는 전 세대 'H100'을 다시 도입하는 것도 검토 중이라고 합니다. ■오픈AI, 글로벌 IT 기업 지출 비용 중 MS·구글·AWS 이어 4위 차지 세계 주요 IT 기업들이 주로 비용을 지출하는 곳으로 오픈AI가 4위에 올랐습니다. 아마존이나 MS, 구글 등 빅테크의 클라우드 서비스에 이어 오픈AI가 올랐다는 것은 그만큼 '챗GPT'가 업계에서 차지하는 비중이 크다는 말입니다. ■\"셰익스피어보다 '챗GPT'의 시에 더 공감...시인이 쓴 시는 이해하기 어려워\" 유명 시인의 시보다 챗GPT의 시에 더 많은 공감을 느낀다는 연구 결과입니다. 이는 뻔한 내용 같지만, 사실 사람들이 점점 AI 챗봇의 글에 익숙해지고 있다는 증거이기도 합니다. 또 시는 원래 이해하기 어렵기 때문에, 사람 입맛에 맞는 용어를 출력하는 AI 쪽이 훨씬 편하다는 분석입니다. AI타임스 news@aitimes.com\n"
     ]
    }
   ],
   "source": [
    "def get_article_content(url: str) -> str:\n",
    "    headers = {\n",
    "        'User-Agent': 'Mozilla/5.0 (Windows NT 10.0; Win64; x64) AppleWebKit/537.36 (KHTML, like Gecko) Chrome/120.0.0.0 Safari/537.36'\n",
    "    }\n",
    "\n",
    "    try:\n",
    "        response = requests.get(url, headers=headers)\n",
    "        soup = BeautifulSoup(response.text, 'html.parser')\n",
    "\n",
    "        # `article-view-content-div` id를 가진 article 태그 찾기\n",
    "        target_div = soup.find(\"article\", id=\"article-view-content-div\")\n",
    "\n",
    "        # <p> 태그들 추출\n",
    "        articles = target_div.find_all(\"p\") if target_div else []\n",
    "\n",
    "        # 문자열만 추출하여 리스트 생성\n",
    "        text_list = [p.get_text(strip=True) for p in articles]\n",
    "        \n",
    "        return ' '.join(text_list)\n",
    "    \n",
    "    except requests.exceptions.RequestException as e:\n",
    "        print(f\"URL {url} 요청 중 에러 발생: {e}\")\n",
    "        return \"\"\n",
    "\n",
    "# 함수 호출\n",
    "url = \"https://www.aitimes.com/news/articleView.html?idxno=165462\"\n",
    "article_texts = get_article_content(url)\n",
    "\n",
    "# 결과 출력\n",
    "print(article_texts)"
   ]
  },
  {
   "cell_type": "code",
   "execution_count": 3,
   "metadata": {},
   "outputs": [],
   "source": [
    "from datetime import datetime\n",
    "\n",
    "\n",
    "def get_article_info(url:str) -> json:\n",
    "\n",
    "    headers = {\n",
    "        'User-Agent': 'Mozilla/5.0 (Windows NT 10.0; Win64; x64) AppleWebKit/537.36 (KHTML, like Gecko) Chrome/120.0.0.0 Safari/537.36'\n",
    "    }\n",
    "\n",
    "    try:\n",
    "        response = requests.get(url, headers=headers)\n",
    "        soup = BeautifulSoup(response.text, 'html.parser')\n",
    "\n",
    "\n",
    "        heading_div = soup.find(\"header\", class_=\"article-view-header\")\n",
    "        title = heading_div.find(\"h3\", class_=\"heading\").get_text(strip=True)\n",
    "        created_at = heading_div.find_all(\"li\")[4].get_text(strip=True)[3:]\n",
    "\n",
    "        # `article-view-content-div` id를 가진 article 태그 찾기\n",
    "        content_div = soup.find(\"article\", id=\"article-view-content-div\")\n",
    "\n",
    "        # <p> 태그들 추출\n",
    "        articles = content_div.find_all(\"p\") if content_div else []\n",
    "\n",
    "        # 문자열만 추출하여 리스트 생성\n",
    "        text_list = [p.get_text(strip=True) for p in articles]\n",
    "        content = ' '.join(text_list)\n",
    "\n",
    "        # JSON 형식으로 반환\n",
    "        article_info = {\n",
    "            \"url\" : url,\n",
    "            \"title\": title,\n",
    "            \"created_at\": created_at,\n",
    "            \"content\": content\n",
    "        }\n",
    "\n",
    "        return article_info\n",
    "    \n",
    "    except requests.exceptions.RequestException as e:\n",
    "        print(f\"URL {url} 요청 중 에러 발생: {e}\")\n",
    "        return {\"error\": \"요청 실패\", \"details\": str(e)}\n",
    "\n",
    "# 함수 호출\n",
    "# url = \"https://www.aitimes.com/news/articleView.html?idxno=165462\"\n",
    "# print(get_article_info(url))\n",
    "\n",
    "# # JSON 형식 출력\n",
    "# print(json.dumps(article_data, ensure_ascii=False, indent=4))"
   ]
  },
  {
   "cell_type": "code",
   "execution_count": null,
   "metadata": {},
   "outputs": [],
   "source": [
    "all_articles = []\n",
    "\n",
    "for one in html:\n",
    "    "
   ]
  },
  {
   "cell_type": "code",
   "execution_count": 78,
   "metadata": {},
   "outputs": [
    {
     "data": {
      "text/plain": [
       "'https://www.aitimes.com/news/articleView.html?idxno=165511'"
      ]
     },
     "execution_count": 78,
     "metadata": {},
     "output_type": "execute_result"
    }
   ],
   "source": [
    "all_articles[0]"
   ]
  },
  {
   "cell_type": "code",
   "execution_count": 4,
   "metadata": {},
   "outputs": [
    {
     "name": "stdout",
     "output_type": "stream",
     "text": [
      "파일 저장 완료: recent_news_json/ai_news_애플, '챗GPT' 통합한 iOS 18.2 출시...아이폰 판매 급증할까.json\n",
      "파일 저장 완료: recent_news_json/ai_news_[12월11일] 데이터 라벨링, 단순노동에서 전문가 중심으로 변화...'맞춤형 모델' 증가가 핵심.json\n",
      "파일 저장 완료: recent_news_json/ai_news_아내가 AI랑 바람피는 것 같아요… 결과는?.json\n",
      "파일 저장 완료: recent_news_json/ai_news_구글, '제미나이 2.0' 출시·AI 에이전트 3종 공개...\"스마트 안경에 AI 비서 탑재할 것\".json\n",
      "파일 저장 완료: recent_news_json/ai_news_오픈AI 지원 언어 교육 스타트업, 유니콘 달성...\"한국 10대 기업 중 8곳 사용\".json\n",
      "파일 저장 완료: recent_news_json/ai_news_아마존, AI 에이전트 중심 연구소 설립...\"AGI 작업 기반 구축\".json\n",
      "파일 저장 완료: recent_news_json/ai_news_'소라'의 유튜브 무단 학습 증거 등장...\"내 방송 일부가 소라 영상에 등장\".json\n",
      "파일 저장 완료: recent_news_json/ai_news_구글 \"양자 칩으로 '멀티버스' 존재 입증\".json\n",
      "파일 저장 완료: recent_news_json/ai_news_\"구글 양자 기술, AI에 큰 도움\"...머스크·알트먼도 \"환영\".json\n",
      "파일 저장 완료: recent_news_json/ai_news_'챗GPT' 지원 AI 스마트 안경 출시...가격도 메타 '레이밴'과 동일.json\n",
      "파일 저장 완료: recent_news_json/ai_news_듀오링고-넷플릭스, '오징어 게임 2' 공개 맞춰 '한국어를 배워라' 캠페인 진행.json\n",
      "파일 저장 완료: recent_news_json/ai_news_유튜브, 동영상 자동 더빙 기능 정식 출시.json\n",
      "파일 저장 완료: recent_news_json/ai_news_구글, FTC에 MS-오픈AI 독점 클라우드 거래 중단 요청.json\n",
      "파일 저장 완료: recent_news_json/ai_news_GM, '크루즈' 로보택시 사업 철수...\"개인용 차량 자율주행에 집중\".json\n",
      "파일 저장 완료: recent_news_json/ai_news_'구글 AI 트렌딩' 검색어 순위에 뤼튼 2위·제타 5위...1위는 '펜슬라이징'.json\n",
      "파일 저장 완료: recent_news_json/ai_news_[클릭AI] 캐릭터닷AI, 청소년 자해 유도 혐의로 또 소송 등 외신 종합.json\n",
      "파일 저장 완료: recent_news_json/ai_news_[게시판] SKT, 텔코 엣지 AI 연구성과로 ‘월드 커뮤니케이션 어워드’ 수상 등 국내 단신.json\n",
      "파일 저장 완료: recent_news_json/ai_news_비투엔, 새로운 ‘데이터 분석·업무 지원 솔루션’ 공개.json\n",
      "파일 저장 완료: recent_news_json/ai_news_딥엘 “복잡한 법률 용어에는 번역 AI가 효과적일 것”.json\n",
      "파일 저장 완료: recent_news_json/ai_news_프리윌린, ‘MAAT 수학경시대회’에 솔루션 지원.json\n"
     ]
    }
   ],
   "source": [
    "import json\n",
    "import os\n",
    "\n",
    "# all_articles_url = all_articles  # URL 리스트 (선언 필요)\n",
    "\n",
    "# all_articles_content = []\n",
    "article_path = \"recent_news_json\"\n",
    "\n",
    "# 경로가 없으면 생성\n",
    "if not os.path.exists(article_path):\n",
    "    os.makedirs(article_path)\n",
    "\n",
    "for url in html:\n",
    "    article_json = get_article_info(url)  # URL에서 기사 데이터 가져오기\n",
    "\n",
    "    # 파일 이름 생성\n",
    "    file_name = f\"ai_news_{article_json.get('title').replace('/', '_')}.json\"\n",
    "    file_path = os.path.join(article_path, file_name)\n",
    "\n",
    "    # JSON 파일 저장\n",
    "    with open(file_path, 'w', encoding='utf-8') as file:\n",
    "        json.dump(article_json, file, ensure_ascii=False, indent=4)\n",
    "\n",
    "    print(f\"파일 저장 완료: {file_path}\")\n",
    "\n"
   ]
  },
  {
   "cell_type": "code",
   "execution_count": null,
   "metadata": {},
   "outputs": [],
   "source": []
  }
 ],
 "metadata": {
  "kernelspec": {
   "display_name": "ai_model",
   "language": "python",
   "name": "python3"
  },
  "language_info": {
   "codemirror_mode": {
    "name": "ipython",
    "version": 3
   },
   "file_extension": ".py",
   "mimetype": "text/x-python",
   "name": "python",
   "nbconvert_exporter": "python",
   "pygments_lexer": "ipython3",
   "version": "3.12.7"
  }
 },
 "nbformat": 4,
 "nbformat_minor": 2
}
