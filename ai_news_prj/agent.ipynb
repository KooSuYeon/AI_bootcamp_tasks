{
 "cells": [
  {
   "cell_type": "code",
   "execution_count": 1,
   "metadata": {},
   "outputs": [
    {
     "name": "stderr",
     "output_type": "stream",
     "text": [
      "Python-dotenv could not parse statement starting at line 2\n"
     ]
    }
   ],
   "source": [
    "import os\n",
    "from dotenv import load_dotenv\n",
    "\n",
    "load_dotenv() \n",
    "open_ai_key = os.getenv(\"OPEN_AI_KEY\")\n",
    "tavily_api_key = os.getenv(\"TAVILY_API_KEY\")\n",
    "youtube_api_key = os.getenv(\"YOUTUBE_API_KEY\")"
   ]
  },
  {
   "cell_type": "code",
   "execution_count": 2,
   "metadata": {},
   "outputs": [],
   "source": [
    "from langchain_openai import ChatOpenAI\n",
    "\n",
    "def get_llm(api_key:str):\n",
    "    model = ChatOpenAI(temperature=0, model=\"gpt-4o-mini\", api_key=api_key)\n",
    "    return model"
   ]
  },
  {
   "cell_type": "markdown",
   "metadata": {},
   "source": [
    "### Agent Chain 생성\n",
    "- agent는 \n",
    "- 관련 정보를 찾을 query문을 다듬어줌\n",
    "- AI 관련된 내용만을 질문하도록 제한을 걸어줌\n",
    "- 올바른 매체를 선택하도록 제한해줌 (프롬프팅 엔지니어링 추가)"
   ]
  },
  {
   "cell_type": "code",
   "execution_count": 23,
   "metadata": {},
   "outputs": [],
   "source": [
    "from pydantic import BaseModel, Field  # 데이터 검증과 직렬화를 위한 Pydantic 라이브러리\n",
    "from typing import Literal  # 다양한 타입 힌팅 클래스들\n",
    "\n",
    "class AgentAction(BaseModel):\n",
    "    \"\"\"\n",
    "    에이전트의 행동을 정의하는 Pydantic 모델\n",
    "    Pydantic은 데이터 검증 및 관리를 위한 라이브러리입니다.\n",
    "    \"\"\"\n",
    "    # Literal을 사용하여 action 필드가 가질 수 있는 값을 제한합니다\n",
    "    action: Literal[\"video\", \"news\", \"not_supported\"] = Field(\n",
    "        description=\"에이전트가 수행할 행동의 타입을 지정합니다\",\n",
    "    )\n",
    "    \n",
    "    action_input: str = Field(\n",
    "        description=\"사용자가 입력한 원본 질의 텍스트입니다\",\n",
    "        min_length=1,  # 최소 1글자 이상이어야 함\n",
    "    )\n",
    "    \n",
    "    search_keyword: str = Field(\n",
    "        description=\"\"\"검색에 사용할 최적화된 키워드입니다.\n",
    "        AI 관련 키워드일 경우 핵심 검색어를 포함하고,\n",
    "        not_supported 액션의 경우 빈 문자열('')을 사용합니다\"\"\",\n",
    "        examples=[\"ChatGPT tutorial\", \"머신러닝 입문 강의\"]  # 예시 제공\n",
    "    )"
   ]
  },
  {
   "cell_type": "code",
   "execution_count": null,
   "metadata": {},
   "outputs": [
    {
     "name": "stdout",
     "output_type": "stream",
     "text": [
      "출력 포맷 가이드 : The output should be formatted as a JSON instance that conforms to the JSON schema below.\n",
      "\n",
      "As an example, for the schema {\"properties\": {\"foo\": {\"title\": \"Foo\", \"description\": \"a list of strings\", \"type\": \"array\", \"items\": {\"type\": \"string\"}}}, \"required\": [\"foo\"]}\n",
      "the object {\"foo\": [\"bar\", \"baz\"]} is a well-formatted instance of the schema. The object {\"properties\": {\"foo\": [\"bar\", \"baz\"]}} is not well-formatted.\n",
      "\n",
      "Here is the output schema:\n",
      "```\n",
      "{\"description\": \"에이전트의 행동을 정의하는 Pydantic 모델\\nPydantic은 데이터 검증 및 관리를 위한 라이브러리입니다.\", \"properties\": {\"action\": {\"description\": \"에이전트가 수행할 행동의 타입을 지정합니다\", \"enum\": [\"video\", \"news\", \"not_supported\"], \"title\": \"Action\", \"type\": \"string\"}, \"action_input\": {\"description\": \"사용자가 입력한 원본 질의 텍스트입니다\", \"minLength\": 1, \"title\": \"Action Input\", \"type\": \"string\"}, \"search_keyword\": {\"description\": \"검색에 사용할 최적화된 키워드입니다.\\n        AI 관련 키워드일 경우 핵심 검색어를 포함하고,\\n        not_supported 액션의 경우 빈 문자열('')을 사용합니다\", \"examples\": [\"ChatGPT tutorial\", \"머신러닝 입문 강의\"], \"title\": \"Search Keyword\", \"type\": \"string\"}}, \"required\": [\"action\", \"action_input\", \"search_keyword\"]}\n",
      "```\n"
     ]
    }
   ],
   "source": [
    "from langchain_core.output_parsers import JsonOutputParser  # LLM의 출력을 JSON 형식으로 파싱하는 도구\n",
    "from langchain_core.prompts import PromptTemplate \n",
    "\n",
    "output_parser = JsonOutputParser(pydantic_object=AgentAction)\n",
    "# print(\"출력 포맷 가이드 :\", output_parser.get_format_instructions())\n",
    "\n",
    "\n",
    "prompt = PromptTemplate(\n",
    "            input_variables=[\"input\"],  # 템플릿에서 사용할 변수들\n",
    "            partial_variables={\"format_instructions\": output_parser.get_format_instructions()},\n",
    "            template=\"\"\"당신은 AI 관련 YouTube 영상을 검색하는 도우미입니다.\n",
    "입력된 질의가 AI 관련 내용인지 먼저 확인하세요.\n",
    "\n",
    "AI 관련 주제 판단 기준:\n",
    "- AI 기술 및 정보 (머신러닝, 딥러닝, 자연어처리 등)\n",
    "- AI 도구 및 서비스 (ChatGPT, DALL-E, Stable Diffusion 등)\n",
    "- AI 교육 및 학습\n",
    "- AI 정책 및 동향\n",
    "\n",
    "AI 관련 질의가 아닌 경우:\n",
    "- action을 \"not_supported\"로 설정\n",
    "- search_keyword는 빈 문자열로 설정\n",
    "\n",
    "AI 관련 질의인 경우:\n",
    "1. action을 \"news\" 또는 \"video\" 중에서 선택하세요.\n",
    "\n",
    "- \"video\":\n",
    "  - \"영상\", \"비디오\", \"동영상\"이라는 단어가 포함된 경우\n",
    "- \"news\":\n",
    "    - 분석, 배경 지식이 중요하거나 \"뉴스\"라는 단어가 포함된 경우.\n",
    "    \n",
    "예제:\n",
    "  - \"비전 프로에 관련된 영상을 찾아줘\" → \"video\"\n",
    "  - \"비전 프로의 최근 소식을 알려줘\" → \"news\"\n",
    "  - \"긴급한 비전 프로 발표 영상을 보여줘\" → \"video\"\n",
    "  - \"비전 프로에 대한 분석 기사를 찾아줘\" → \"news\"\n",
    "  - \"gpt 관련 영상을 추천해줘\" → \"video\"\n",
    "\n",
    "출력은 반드시 아래 형식으로 작성하세요:\n",
    "  \"news\" 또는 \"video\"\n",
    "     \n",
    "단어 분석:\n",
    "  1. \"영상\", \"비디오\", \"동영상\" 또는 이와 유사한 단어가 포함되면 항상 \"video\"를 선택합니다.\n",
    "  2. 위 단어가 없으면 \"news\"를 선택합니다.\n",
    "    \n",
    "2. 검색 키워드 최적화:\n",
    "   - 핵심 주제어 추출\n",
    "   - 불필요한 단어 제거 (동영상, 찾아줘 등)\n",
    "   - 전문 용어는 그대로 유지\n",
    "\n",
    "분석할 질의: {input}\n",
    "\n",
    "{format_instructions}\"\"\")"
   ]
  },
  {
   "cell_type": "code",
   "execution_count": 25,
   "metadata": {},
   "outputs": [],
   "source": [
    "def extract_assistant(order:str):\n",
    "    llm = get_llm(open_ai_key)\n",
    "\n",
    "    extract_chain = prompt | llm | output_parser\n",
    "    extract = extract_chain.invoke({\"input\": order})\n",
    "\n",
    "    print(f\"🧚 {extract.get(\"action\")} 매체로 원하시는 정보를 보여줄게요!\")\n",
    "    print(\"===============================================\")\n",
    "\n",
    "    return extract"
   ]
  },
  {
   "cell_type": "code",
   "execution_count": null,
   "metadata": {},
   "outputs": [],
   "source": [
    "# from langchain_core.prompts import ChatPromptTemplate\n",
    "\n",
    "# choose_prompt = ChatPromptTemplate.from_messages([\n",
    "#     (\"system\", \"\"\"\n",
    "#     아래 지시사항에 따라 \"news\" 또는 \"video\"를 선택하세요.\n",
    "     \n",
    "#     [지시사항]\n",
    "#     quiz: {{quiz}}\n",
    "    \n",
    "#     - \"video\":\n",
    "#       - \"영상\", \"비디오\", \"동영상\"이라는 단어가 포함된 경우\n",
    "#     - \"news\":\n",
    "#       - 분석, 배경 지식이 중요하거나 \"뉴스\"라는 단어가 포함된 경우.\n",
    "    \n",
    "#     예제:\n",
    "#     - \"비전 프로에 관련된 영상을 찾아줘\" → \"video\"\n",
    "#     - \"비전 프로의 최근 소식을 알려줘\" → \"news\"\n",
    "#     - \"긴급한 비전 프로 발표 영상을 보여줘\" → \"video\"\n",
    "#     - \"비전 프로에 대한 분석 기사를 찾아줘\" → \"news\"\n",
    "#     - \"gpt 관련 영상을 추천해줘\" → \"video\"\n",
    "\n",
    "#     출력은 반드시 아래 형식으로 작성하세요:\n",
    "#     \"news\" 또는 \"video\"\n",
    "     \n",
    "#     단어 분석:\n",
    "#     1. \"영상\", \"비디오\", \"동영상\" 또는 이와 유사한 단어가 포함되면 항상 \"video\"를 선택합니다.\n",
    "#     2. 위 단어가 없으면 \"news\"를 선택합니다.\n",
    "    \n",
    "#     \"\"\")\n",
    "# ])\n"
   ]
  },
  {
   "cell_type": "code",
   "execution_count": null,
   "metadata": {},
   "outputs": [],
   "source": [
    "# def choose_media(order:str):\n",
    "#     llm = get_llm(open_ai_key)\n",
    "\n",
    "#     media_chain = choose_prompt | llm\n",
    "#     media = media_chain.invoke({\"quiz\": order}).content\n",
    "\n",
    "#     return media"
   ]
  },
  {
   "cell_type": "code",
   "execution_count": 80,
   "metadata": {},
   "outputs": [
    {
     "name": "stdout",
     "output_type": "stream",
     "text": [
      "=============================\n",
      "{'action': 'news', 'action_input': 'gpt 관련 개념을 알 수 있는 기사를 알려줘', 'search_keyword': 'gpt 개념'}\n"
     ]
    }
   ],
   "source": [
    "order = input(\"질문을 입력해주세요>>>\")\n",
    "\n",
    "print(\"=============================\")\n",
    "print(extract_assistant(order))"
   ]
  },
  {
   "cell_type": "markdown",
   "metadata": {},
   "source": [
    "### Youtube API agent 생성\n",
    "\n",
    "- Agent의 역할은 LLM 외부와 통신하며 정보를 획득하거나 상호 작용하는 단계\n",
    "- 조회 순으로 5개의 비디오를 보여지게 함"
   ]
  },
  {
   "cell_type": "code",
   "execution_count": 26,
   "metadata": {},
   "outputs": [],
   "source": [
    "from googleapiclient.discovery import build\n",
    "from datetime import datetime\n",
    "import pytz\n",
    "\n",
    "# 유튜브 API 호출 함수\n",
    "def search_youtube_videos(query: str) -> str:\n",
    "    api_key = youtube_api_key  # 유튜브 API 키 입력\n",
    "    youtube = build(\"youtube\", \"v3\", developerKey=api_key)\n",
    "\n",
    "    # 유튜브에서 검색\n",
    "    search_response = youtube.search().list(\n",
    "        q=query,\n",
    "        part=\"snippet\",\n",
    "        maxResults=5,  # 최대 검색 결과 수\n",
    "        type=\"video\",  # 비디오만 검색\n",
    "        order=\"viewCount\"  # 조회수 순으로 정렬\n",
    "    ).execute()\n",
    "\n",
    "    # 검색 결과 정리\n",
    "    results = []\n",
    "    for item in search_response.get(\"items\", []):\n",
    "        title = item[\"snippet\"][\"title\"]\n",
    "        description = item[\"snippet\"][\"description\"]\n",
    "        video_id = item[\"id\"][\"videoId\"]\n",
    "        video_url = f\"https://www.youtube.com/watch?v={video_id}\"\n",
    "\n",
    "        # 비디오 정보 조회\n",
    "        video_response = youtube.videos().list(\n",
    "            id=video_id,\n",
    "            part=\"snippet,statistics\"\n",
    "        ).execute()\n",
    "\n",
    "        snippet = video_response[\"items\"][0][\"snippet\"]\n",
    "        statistics = video_response[\"items\"][0][\"statistics\"]\n",
    "        likes_count = statistics.get(\"likeCount\", 0)\n",
    "        view_count = statistics.get(\"viewCount\", 0)\n",
    "\n",
    "        short_description = (description[:150] + '...') if len(description) > 150 else description\n",
    "\n",
    "        utc_time = snippet[\"publishedAt\"]\n",
    "        utc_time_dt = datetime.fromisoformat(utc_time.replace(\"Z\", \"+00:00\"))\n",
    "        kst_tz = pytz.timezone('Asia/Seoul')\n",
    "        kst_time = utc_time_dt.astimezone(kst_tz).strftime('%Y-%m-%d %H:%M:%S')\n",
    "\n",
    "\n",
    "        # 결과 리스트에 추가\n",
    "        results.append({\n",
    "            \"title\": title,\n",
    "            \"url\": video_url,\n",
    "            \"description\": short_description,\n",
    "            \"likes\": likes_count,\n",
    "            \"views\": view_count,\n",
    "            \"upload_time\": kst_time\n",
    "        })\n",
    "\n",
    "    return results"
   ]
  },
  {
   "cell_type": "code",
   "execution_count": 33,
   "metadata": {},
   "outputs": [],
   "source": [
    "from typing import List\n",
    "\n",
    "\n",
    "def print_videos_information(videos:List):\n",
    "\n",
    "    cnt = 0\n",
    "    for result in videos:\n",
    "        title = result['title']\n",
    "        video_url = result['url']\n",
    "        description = result['description']\n",
    "        likes = result['likes']\n",
    "        views = result['views']\n",
    "        upload_time = result[\"upload_time\"]\n",
    "        cnt += 1\n",
    "        \n",
    "        print(f\"{cnt}.\")\n",
    "        print(f\"Title: {title}\")\n",
    "        print(f\"URL: {video_url}\")\n",
    "        print(f\"Description: {description}\")\n",
    "        print(f\"Likes: {likes}\")\n",
    "        print(f\"Views: {views}\")\n",
    "        print(f\"Upload_time: {upload_time}\")\n",
    "        print(\"===============================================\")"
   ]
  },
  {
   "cell_type": "code",
   "execution_count": null,
   "metadata": {},
   "outputs": [],
   "source": [
    "from langchain.vectorstores import Chroma\n",
    "import chromadb\n",
    "from langchain_openai import OpenAIEmbeddings\n",
    "\n",
    "def queryDB(query):\n",
    "    client = chromadb.HttpClient(host=\"localhost\", port=9000)\n",
    "    embeddings = OpenAIEmbeddings(model=\"text-embedding-ada-002\", api_key=open_ai_key)\n",
    "    db = Chroma(client=client, collection_name = \"articles1\", embedding_function = embeddings)\n",
    "    # idx를 기준으로 유사도가 있는 문서를 갖고옴\n",
    "    docs = db.similarity_search_with_score(query)\n",
    "    return docs"
   ]
  },
  {
   "cell_type": "code",
   "execution_count": 29,
   "metadata": {},
   "outputs": [
    {
     "data": {
      "text/plain": [
       "[(Document(metadata={'sub': '2024.06.14 18:05', 'title': '애플, \\'챗GPT\\' 탑재 현금 보상 없어...\"시리 통합 자체가 보상\"', 'url': 'https://www.aitimes.com/news/articleView.html?idxno=160627'}, page_content=\"애플이 음성비서 '시리(Siri)'에 '챗GPT'를 도입하기로 했지만, 이에 따른 금전적 대가를 오픈AI에 지불하지는 않을 것이란 보도가 나왔다. 블룸버그는 13일(현지시간) 애플과 오픈AI가 기술 파트너십을 체결했으나, 이 계약에 금전적인 대가는 오가지 않았다고 소개했다. 애플은 지난 10일 세계개발자회의(WWDC)에서 시리에 챗GPT를 통합한다고\"),\n",
       "  0.3405027389526367),\n",
       " (Document(metadata={'sub': '2024.08.21 07:00', 'title': '역시 고양이는 못 참지!', 'url': 'https://www.aitimes.com/news/articleView.html?idxno=162657'}, page_content='AI타임스 조예주 기자 joyejuoffice@aitimes.com'),\n",
       "  0.36103561190109423),\n",
       " (Document(metadata={'sub': '2024.02.14 18:00', 'title': \"챗GPT, 채팅 내용 '기억 설정' 가능해진다\", 'url': 'https://www.aitimes.com/news/articleView.html?idxno=157156'}, page_content=\"오픈AI가 '챗GPT'의 기억력을 강화한다. 사용자와의 과거 대화 내용을 기억, 향후 채팅에 활용해 보다 개인화된 서비스를 제공하겠다는 의도다. 구글이 첨단 멀티모달모델(LMM) ‘제미나이 울트라’를 탑재한 챗봇 ‘제미나이 어드밴스드’를 출시한 데 따라 반격에 나선 것으로 풀이된다. 오픈AI는 13일(현지시간) 블로그를 통해 사용자의 과거 대화 기억 기능을\"),\n",
       "  0.379759281873703),\n",
       " (Document(metadata={'sub': '박수빈 기자', 'title': \"이스트에이드, 콘텐츠 플랫폼 '피키캐스트' '봉봉' 인수...AI 비즈니스 가속화\", 'url': 'https://www.aitimes.com/news/articleView.html?idxno=161579'}, page_content=\"이스트소프트의 자회사인 이스트에이드(대표 김남현)는 콘텐츠 큐레이션 플랫폼 '피키캐스트'와 인터랙티브 콘텐츠 플랫폼 '봉봉'을 인수하고 개방형 인공지능(AI) 포털로\\xa0성장하겠다고 15일 밝혔다. 피키캐스트는 개성 있는 모바일 콘텐츠로 월간 사용자(MAU)가 500만명을 넘어서는 등 인기를 누렸다. 봉봉은 '신이 나를 만들 때' ‘소울메이트’ 등\"),\n",
       "  0.3902859389781952)]"
      ]
     },
     "execution_count": 29,
     "metadata": {},
     "output_type": "execute_result"
    }
   ],
   "source": [
    "query = \"gpt 관련 뉴스\"\n",
    "result = queryDB(query)\n",
    "result"
   ]
  },
  {
   "cell_type": "code",
   "execution_count": 38,
   "metadata": {},
   "outputs": [],
   "source": [
    "def print_news_information(results: List):\n",
    "    # 정렬: 결과를 (score, Document) 튜플로 변환 후 score에 따라 내림차순으로 정렬\n",
    "    sorted_results = sorted(results, key=lambda x: x[1], reverse=True)\n",
    "    \n",
    "    cnt = 0\n",
    "    for result in sorted_results:\n",
    "        document = result[0]\n",
    "        metadata = document.metadata\n",
    "        title = metadata.get('title', 'N/A')\n",
    "        url = metadata.get('url', 'N/A')\n",
    "        sub = metadata.get('sub', 'N/A')\n",
    "        page_content = document.page_content\n",
    "        score = result[1]\n",
    "        cnt += 1\n",
    "        \n",
    "        print(f\"{cnt}.\")\n",
    "        print(f\"Title: {title}\")\n",
    "        print(f\"URL: {url}\")\n",
    "        print(f\"Content: {page_content}\")\n",
    "        print(f\"Other: {sub}\")\n",
    "        print(f\"Relevance: {score}\")\n",
    "        print(\"===============================================\")\n"
   ]
  },
  {
   "cell_type": "code",
   "execution_count": 39,
   "metadata": {},
   "outputs": [
    {
     "name": "stdout",
     "output_type": "stream",
     "text": [
      "1.\n",
      "Title: 이스트에이드, 콘텐츠 플랫폼 '피키캐스트' '봉봉' 인수...AI 비즈니스 가속화\n",
      "URL: https://www.aitimes.com/news/articleView.html?idxno=161579\n",
      "Content: 이스트소프트의 자회사인 이스트에이드(대표 김남현)는 콘텐츠 큐레이션 플랫폼 '피키캐스트'와 인터랙티브 콘텐츠 플랫폼 '봉봉'을 인수하고 개방형 인공지능(AI) 포털로 성장하겠다고 15일 밝혔다. 피키캐스트는 개성 있는 모바일 콘텐츠로 월간 사용자(MAU)가 500만명을 넘어서는 등 인기를 누렸다. 봉봉은 '신이 나를 만들 때' ‘소울메이트’ 등\n",
      "Other: 박수빈 기자\n",
      "Relevance: 0.3902859389781952\n",
      "===============================================\n",
      "2.\n",
      "Title: 챗GPT, 채팅 내용 '기억 설정' 가능해진다\n",
      "URL: https://www.aitimes.com/news/articleView.html?idxno=157156\n",
      "Content: 오픈AI가 '챗GPT'의 기억력을 강화한다. 사용자와의 과거 대화 내용을 기억, 향후 채팅에 활용해 보다 개인화된 서비스를 제공하겠다는 의도다. 구글이 첨단 멀티모달모델(LMM) ‘제미나이 울트라’를 탑재한 챗봇 ‘제미나이 어드밴스드’를 출시한 데 따라 반격에 나선 것으로 풀이된다. 오픈AI는 13일(현지시간) 블로그를 통해 사용자의 과거 대화 기억 기능을\n",
      "Other: 2024.02.14 18:00\n",
      "Relevance: 0.379759281873703\n",
      "===============================================\n",
      "3.\n",
      "Title: 역시 고양이는 못 참지!\n",
      "URL: https://www.aitimes.com/news/articleView.html?idxno=162657\n",
      "Content: AI타임스 조예주 기자 joyejuoffice@aitimes.com\n",
      "Other: 2024.08.21 07:00\n",
      "Relevance: 0.36103561190109423\n",
      "===============================================\n",
      "4.\n",
      "Title: 애플, '챗GPT' 탑재 현금 보상 없어...\"시리 통합 자체가 보상\"\n",
      "URL: https://www.aitimes.com/news/articleView.html?idxno=160627\n",
      "Content: 애플이 음성비서 '시리(Siri)'에 '챗GPT'를 도입하기로 했지만, 이에 따른 금전적 대가를 오픈AI에 지불하지는 않을 것이란 보도가 나왔다. 블룸버그는 13일(현지시간) 애플과 오픈AI가 기술 파트너십을 체결했으나, 이 계약에 금전적인 대가는 오가지 않았다고 소개했다. 애플은 지난 10일 세계개발자회의(WWDC)에서 시리에 챗GPT를 통합한다고\n",
      "Other: 2024.06.14 18:05\n",
      "Relevance: 0.3405027389526367\n",
      "===============================================\n"
     ]
    }
   ],
   "source": [
    "print_news_information(result)"
   ]
  },
  {
   "cell_type": "code",
   "execution_count": 42,
   "metadata": {},
   "outputs": [
    {
     "name": "stdout",
     "output_type": "stream",
     "text": [
      "🔍 'gpt에 관한 문서를 알려줘' 에 대한 정보를 검색중 .....\n",
      "\n",
      "\n",
      "===============================================\n",
      "🧚 news 매체로 원하시는 정보를 보여줄게요!\n",
      "===============================================\n",
      "1.\n",
      "Title: 파루인쇄전자, GMP 인증 획득...\"온열 브랜드에서 헬스케어로 확장\"\n",
      "URL: https://www.aitimes.com/news/articleView.html?idxno=160691\n",
      "Content: 면상발열 솔루션 전문 파루인쇄전자는 '원적외선 목 어깨 온열찜질기'가 의료기기 제조 및 품질관리 기준 적합 인정서(GMP)를 획득했다고 18일 밝혔다. 파루인쇄전자는 독자적으로 보유한 면상발열 솔루션을 기반으로 절전, 초슬림, 초경량, 친환경을 만족하는 온열제품을 개발·제조·판매하는 히팅 솔루션 전문 기업이다. 자체 온열 브랜드인 '잉코(INKO)'를 통해\n",
      "Other: 임대준 기자\n",
      "Relevance: 0.5052315592765808\n",
      "===============================================\n",
      "2.\n",
      "Title: 챗GPT, 채팅 내용 '기억 설정' 가능해진다\n",
      "URL: https://www.aitimes.com/news/articleView.html?idxno=157156\n",
      "Content: 오픈AI가 '챗GPT'의 기억력을 강화한다. 사용자와의 과거 대화 내용을 기억, 향후 채팅에 활용해 보다 개인화된 서비스를 제공하겠다는 의도다. 구글이 첨단 멀티모달모델(LMM) ‘제미나이 울트라’를 탑재한 챗봇 ‘제미나이 어드밴스드’를 출시한 데 따라 반격에 나선 것으로 풀이된다. 오픈AI는 13일(현지시간) 블로그를 통해 사용자의 과거 대화 기억 기능을\n",
      "Other: 2024.02.14 18:00\n",
      "Relevance: 0.4806564152240753\n",
      "===============================================\n",
      "3.\n",
      "Title: \"미국 학생·교사, 급속도로 AI 채택 확대...75~80%가 챗GPT 활용\"\n",
      "URL: https://www.aitimes.com/news/articleView.html?idxno=160656\n",
      "Content: 미국 교육 분야에서 인공지능(AI) 채택이 빠르게 확대되는 것으로 알려졌다. 한 설문 조사에 따르면 미국 교사와 학생 75~80%가 '챗GPT'에 익숙한 것으로 나타났다. CNBC는 최근 윌튼 패밀리 재단의 임팩트 리서치가 실시한 설문조사를 인용, 1년 새 AI 도구를 사용하는 교사와 학생 비율이 각각 24%와 38% 증가했다고 보도했다. 학습 엔지니어링\n",
      "Other: 2024.06.16 18:33\n",
      "Relevance: 0.4548051655292511\n",
      "===============================================\n",
      "4.\n",
      "Title: 애플, '챗GPT' 탑재 현금 보상 없어...\"시리 통합 자체가 보상\"\n",
      "URL: https://www.aitimes.com/news/articleView.html?idxno=160627\n",
      "Content: 애플이 음성비서 '시리(Siri)'에 '챗GPT'를 도입하기로 했지만, 이에 따른 금전적 대가를 오픈AI에 지불하지는 않을 것이란 보도가 나왔다. 블룸버그는 13일(현지시간) 애플과 오픈AI가 기술 파트너십을 체결했으나, 이 계약에 금전적인 대가는 오가지 않았다고 소개했다. 애플은 지난 10일 세계개발자회의(WWDC)에서 시리에 챗GPT를 통합한다고\n",
      "Other: 2024.06.14 18:05\n",
      "Relevance: 0.42793095111846924\n",
      "===============================================\n"
     ]
    }
   ],
   "source": [
    "query = input(\"질문을 입력해주세요 >>>\")\n",
    "print(f\"🔍 '{query}' 에 대한 정보를 검색중 .....\\n\\n\")\n",
    "print(\"===============================================\")\n",
    "\n",
    "extract = extract_assistant(query)\n",
    "\n",
    "# action : 사용할 매체\n",
    "media = extract.get(\"action\")\n",
    "# search_keyword : 검색할 쿼리\n",
    "keyword = extract.get(\"search_keyword\")\n",
    "\n",
    "if media == \"video\":\n",
    "    results = search_youtube_videos(keyword)\n",
    "    print_videos_information(results)\n",
    "\n",
    "elif media == \"news\":\n",
    "    results = queryDB(keyword)\n",
    "    print_news_information(results)\n",
    "\n",
    "else:\n",
    "    print(\"UNSUPPORTED ACCESS\")\n",
    "    \n"
   ]
  },
  {
   "cell_type": "code",
   "execution_count": null,
   "metadata": {},
   "outputs": [],
   "source": []
  }
 ],
 "metadata": {
  "kernelspec": {
   "display_name": "agentenv",
   "language": "python",
   "name": "python3"
  },
  "language_info": {
   "codemirror_mode": {
    "name": "ipython",
    "version": 3
   },
   "file_extension": ".py",
   "mimetype": "text/x-python",
   "name": "python",
   "nbconvert_exporter": "python",
   "pygments_lexer": "ipython3",
   "version": "3.12.2"
  }
 },
 "nbformat": 4,
 "nbformat_minor": 2
}
