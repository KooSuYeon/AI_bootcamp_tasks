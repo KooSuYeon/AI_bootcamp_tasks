{
 "cells": [
  {
   "cell_type": "markdown",
   "metadata": {},
   "source": [
    "### 뉴스 content를 LLM으로 요약해서 임베딩 후 벡터 저장"
   ]
  },
  {
   "cell_type": "code",
   "execution_count": 53,
   "metadata": {},
   "outputs": [
    {
     "name": "stdout",
     "output_type": "stream",
     "text": [
      "                                                 url  \\\n",
      "0  https://www.aitimes.com/news/articleView.html?...   \n",
      "1  https://www.aitimes.com/news/articleView.html?...   \n",
      "2  https://www.aitimes.com/news/articleView.html?...   \n",
      "\n",
      "                                               title        created_at  \\\n",
      "0  버핏 등 유명 투자자 모방한 AI 챗봇 ETF 등장...\"챗GPT 등으로 투자위원회...  2024.09.19 18:00   \n",
      "1       머스크-트럼프 온라인 토론, 기술 문제로 40분 지연...\"DDoS 공격 때문\"  2024.08.15 10:40   \n",
      "2                  코난테크놀로지, 경찰청 콜센터에 AI 챗봇 시스템 구축 계약            장세민 기자   \n",
      "\n",
      "                                             content  \n",
      "0  전설적인 투자자들의 행동을 모방한 인공지능(AI) 챗봇 기반의 상장지수펀드(ETF)...  \n",
      "1  일론 머스크 테슬라 CEO와 도널드 트럼프 전 대통령의 온라인 토론이 X(트위터)를...  \n",
      "2  인공지능(AI) 전문 코난테크놀로지(대표 김영섬)는 경찰청 ‘전기통신금융사기 통합신...  \n"
     ]
    }
   ],
   "source": [
    "import os\n",
    "import json\n",
    "import pandas as pd\n",
    "\n",
    "news_path = \"raw_ai_news_json\"\n",
    "raw_articles = pd.DataFrame()\n",
    "\n",
    "# 디렉터리 내 모든 .json 파일 읽기\n",
    "for filename in os.listdir(news_path):\n",
    "    if filename.endswith(\".json\"):  # .json 파일만 처리\n",
    "        file_path = os.path.join(news_path, filename)\n",
    "        \n",
    "        # 각 파일을 열어서 JSON 데이터 읽어오기\n",
    "        with open(file_path, 'r', encoding='utf-8') as file:\n",
    "            article_json = json.load(file)\n",
    "\n",
    "            article_df = pd.DataFrame([article_json])  # JSON을 DataFrame으로 변환\n",
    "            raw_articles = pd.concat([raw_articles, article_df], ignore_index=True)\n",
    "            \n",
    "\n",
    "# 결과 확인\n",
    "print(raw_articles[:3])"
   ]
  },
  {
   "cell_type": "code",
   "execution_count": 55,
   "metadata": {},
   "outputs": [
    {
     "name": "stdout",
     "output_type": "stream",
     "text": [
      "                                                 url  \\\n",
      "0  https://www.aitimes.com/news/articleView.html?...   \n",
      "1  https://www.aitimes.com/news/articleView.html?...   \n",
      "2  https://www.aitimes.com/news/articleView.html?...   \n",
      "\n",
      "                                               title        created_at  \\\n",
      "0  버핏 등 유명 투자자 모방한 AI 챗봇 ETF 등장...\"챗GPT 등으로 투자위원회...  2024.09.19 18:00   \n",
      "1       머스크-트럼프 온라인 토론, 기술 문제로 40분 지연...\"DDoS 공격 때문\"  2024.08.15 10:40   \n",
      "2                  코난테크놀로지, 경찰청 콜센터에 AI 챗봇 시스템 구축 계약            장세민 기자   \n",
      "\n",
      "                                             content  \n",
      "0  전설적인 투자자들의 행동을 모방한 AI 챗봇 기반의 상장지수펀드(ETF)가 출시됐다...  \n",
      "1  일론 머스크 테슬라 CEO와 도널드 트럼프 전 대통령의 온라인 토론이 X(트위터)에...  \n",
      "2  인공지능 전문 기업 코난테크놀로지가 경찰청의 전기통신금융사기 통합신고대응센터 콜센터...  \n"
     ]
    }
   ],
   "source": [
    "import os\n",
    "import json\n",
    "import pandas as pd\n",
    "\n",
    "news_path = \"sum_ai_news_json\"\n",
    "sum_articles = pd.DataFrame()\n",
    "\n",
    "# 디렉터리 내 모든 .json 파일 읽기\n",
    "for filename in os.listdir(news_path):\n",
    "    if filename.endswith(\".json\"):  # .json 파일만 처리\n",
    "        file_path = os.path.join(news_path, filename)\n",
    "        \n",
    "        # 각 파일을 열어서 JSON 데이터 읽어오기\n",
    "        with open(file_path, 'r', encoding='utf-8') as file:\n",
    "            article_json = json.load(file)\n",
    "\n",
    "            article_df = pd.DataFrame([article_json])  # JSON을 DataFrame으로 변환\n",
    "            sum_articles = pd.concat([sum_articles, article_df], ignore_index=True)\n",
    "            \n",
    "\n",
    "# 결과 확인\n",
    "print(sum_articles[:3])"
   ]
  },
  {
   "cell_type": "code",
   "execution_count": 4,
   "metadata": {},
   "outputs": [
    {
     "name": "stdout",
     "output_type": "stream",
     "text": [
      "Collecting pandas\n",
      "  Using cached pandas-2.2.3-cp312-cp312-macosx_11_0_arm64.whl.metadata (89 kB)\n",
      "Requirement already satisfied: numpy>=1.26.0 in /opt/anaconda3/envs/agentenv/lib/python3.12/site-packages (from pandas) (2.2.0)\n",
      "Requirement already satisfied: python-dateutil>=2.8.2 in /opt/anaconda3/envs/agentenv/lib/python3.12/site-packages (from pandas) (2.9.0.post0)\n",
      "Requirement already satisfied: pytz>=2020.1 in /opt/anaconda3/envs/agentenv/lib/python3.12/site-packages (from pandas) (2024.1)\n",
      "Collecting tzdata>=2022.7 (from pandas)\n",
      "  Using cached tzdata-2024.2-py2.py3-none-any.whl.metadata (1.4 kB)\n",
      "Requirement already satisfied: six>=1.5 in /opt/anaconda3/envs/agentenv/lib/python3.12/site-packages (from python-dateutil>=2.8.2->pandas) (1.16.0)\n",
      "Using cached pandas-2.2.3-cp312-cp312-macosx_11_0_arm64.whl (11.4 MB)\n",
      "Using cached tzdata-2024.2-py2.py3-none-any.whl (346 kB)\n",
      "Installing collected packages: tzdata, pandas\n",
      "Successfully installed pandas-2.2.3 tzdata-2024.2\n"
     ]
    }
   ],
   "source": [
    "!pip install pandas"
   ]
  },
  {
   "cell_type": "code",
   "execution_count": 6,
   "metadata": {},
   "outputs": [
    {
     "name": "stdout",
     "output_type": "stream",
     "text": [
      "                                                 url  \\\n",
      "0  https://www.aitimes.com/news/articleView.html?...   \n",
      "1  https://www.aitimes.com/news/articleView.html?...   \n",
      "2  https://www.aitimes.com/news/articleView.html?...   \n",
      "\n",
      "                                            title        created_at  \\\n",
      "0   부산AI영화제서 국내 생성 AI 작품이 수상 휩쓸어...\"가장 긴 영화는 14분\"  2024.12.10 17:42   \n",
      "1  [AI의 역사] 02 단순 제어프로그램에서 초인공지능까지 – 인공지능의 종류와 정의  2024.12.10 17:55   \n",
      "2  xAI, 이미지 생성기 '오로라' 이번 주 정식 출시 발표...사실성·스타일 돋보여  2024.12.10 18:05   \n",
      "\n",
      "                                             content  \n",
      "0  생성 인공지능(AI) 기반 영화를 선보이는 부산국제인공지능영화제(BIAIF)에서 5...  \n",
      "1  AI타임스는 90여회에 걸쳐 'AI의 역사' 시리즈를 게재합니다. 'AI의 아버지'...  \n",
      "2  일론 머스크 CEO의 xAI가 인공지능(AI) 챗봇 '그록(Grok)'의 새로운 이...  \n"
     ]
    }
   ],
   "source": [
    "import os\n",
    "import json\n",
    "import pandas as pd\n",
    "\n",
    "news_path = \"recent_news_json\"\n",
    "recent_articles = pd.DataFrame()\n",
    "\n",
    "# 디렉터리 내 모든 .json 파일 읽기\n",
    "for filename in os.listdir(news_path):\n",
    "    if filename.endswith(\".json\"):  # .json 파일만 처리\n",
    "        file_path = os.path.join(news_path, filename)\n",
    "        \n",
    "        # 각 파일을 열어서 JSON 데이터 읽어오기\n",
    "        with open(file_path, 'r', encoding='utf-8') as file:\n",
    "            article_json = json.load(file)\n",
    "\n",
    "            article_df = pd.DataFrame([article_json])  # JSON을 DataFrame으로 변환\n",
    "            recent_articles = pd.concat([recent_articles, article_df], ignore_index=True)\n",
    "            \n",
    "\n",
    "# 결과 확인\n",
    "print(recent_articles[:3])"
   ]
  },
  {
   "cell_type": "code",
   "execution_count": 57,
   "metadata": {},
   "outputs": [
    {
     "name": "stdout",
     "output_type": "stream",
     "text": [
      "                                                 url  \\\n",
      "0  https://www.aitimes.com/news/articleView.html?...   \n",
      "1  https://www.aitimes.com/news/articleView.html?...   \n",
      "2  https://www.aitimes.com/news/articleView.html?...   \n",
      "\n",
      "                                               title        created_at  \\\n",
      "0  버핏 등 유명 투자자 모방한 AI 챗봇 ETF 등장...\"챗GPT 등으로 투자위원회...  2024.09.19 18:00   \n",
      "1       머스크-트럼프 온라인 토론, 기술 문제로 40분 지연...\"DDoS 공격 때문\"  2024.08.15 10:40   \n",
      "2                  코난테크놀로지, 경찰청 콜센터에 AI 챗봇 시스템 구축 계약            장세민 기자   \n",
      "\n",
      "                                         content_sum  \\\n",
      "0  전설적인 투자자들의 행동을 모방한 AI 챗봇 기반의 상장지수펀드(ETF)가 출시됐다...   \n",
      "1  일론 머스크 테슬라 CEO와 도널드 트럼프 전 대통령의 온라인 토론이 X(트위터)에...   \n",
      "2  인공지능 전문 기업 코난테크놀로지가 경찰청의 전기통신금융사기 통합신고대응센터 콜센터...   \n",
      "\n",
      "                                         content_raw  \n",
      "0  전설적인 투자자들의 행동을 모방한 인공지능(AI) 챗봇 기반의 상장지수펀드(ETF)...  \n",
      "1  일론 머스크 테슬라 CEO와 도널드 트럼프 전 대통령의 온라인 토론이 X(트위터)를...  \n",
      "2  인공지능(AI) 전문 코난테크놀로지(대표 김영섬)는 경찰청 ‘전기통신금융사기 통합신...  \n"
     ]
    }
   ],
   "source": [
    "# 합치기\n",
    "merged_articles = pd.merge(\n",
    "    sum_articles,\n",
    "    raw_articles,\n",
    "    on=['url', 'created_at', 'title'],  # 'url' 컬럼을 기준으로 합침\n",
    "    suffixes=('_sum', '_raw')  # 합친 후 column 이름 구별하기 위해 suffixes 사용\n",
    ")\n",
    "\n",
    "# 결과 확인\n",
    "print(merged_articles[:3])"
   ]
  },
  {
   "cell_type": "code",
   "execution_count": 58,
   "metadata": {},
   "outputs": [
    {
     "data": {
      "text/plain": [
       "100"
      ]
     },
     "execution_count": 58,
     "metadata": {},
     "output_type": "execute_result"
    }
   ],
   "source": [
    "len(merged_articles)"
   ]
  },
  {
   "cell_type": "code",
   "execution_count": 7,
   "metadata": {},
   "outputs": [],
   "source": [
    "api_key = os.getenv(\"OPEN_AI_KEY\")"
   ]
  },
  {
   "cell_type": "markdown",
   "metadata": {},
   "source": [
    "### (UPDATE) Vector DB 저장\n",
    "\n",
    "- 인덱스로는 기사의 제목을 선택 -> 제목 검색력으로 검색 속도 UP 시키기\n",
    "- queryDB를 통해 vectorDB에서 손쉽게 해당하는 기사를 찾을 수 있게 된다."
   ]
  },
  {
   "cell_type": "code",
   "execution_count": 8,
   "metadata": {},
   "outputs": [],
   "source": [
    "class EmbeddingWrapper:\n",
    "    def __init__(self, embeddings):\n",
    "        self.embeddings = embeddings\n",
    "\n",
    "    def __call__(self, input):\n",
    "        # input이 문자열 리스트라면 embeddings 함수에 전달\n",
    "        if isinstance(input, list):\n",
    "            return self.embeddings.embed_documents(input)\n",
    "        # 단일 문자열 처리\n",
    "        elif isinstance(input, str):\n",
    "            return self.embeddings.embed_query(input)\n",
    "        else:\n",
    "            raise ValueError(\"Input type not supported for embedding\")"
   ]
  },
  {
   "cell_type": "code",
   "execution_count": 10,
   "metadata": {},
   "outputs": [
    {
     "name": "stderr",
     "output_type": "stream",
     "text": [
      "Processing: 100%|██████████| 20/20 [01:01<00:00,  3.09s/it]\n"
     ]
    }
   ],
   "source": [
    "import chromadb\n",
    "from langchain_openai import OpenAIEmbeddings\n",
    "from langchain_text_splitters import RecursiveCharacterTextSplitter\n",
    "from langchain.docstore.document import Document\n",
    "import uuid\n",
    "from tqdm import tqdm\n",
    "\n",
    "def insert(dataframe):\n",
    "    embeddings = OpenAIEmbeddings(model=\"text-embedding-ada-002\", api_key=api_key)\n",
    "    embedding_function = EmbeddingWrapper(embeddings)\n",
    "    # 컬렉션 이름 정의\n",
    "    collection_name = \"articles_recent\"\n",
    "    client = chromadb.HttpClient(host='localhost', port=9000)\n",
    "    # client.delete_collection(name=collection_name)\n",
    "    collection = client.create_collection(name=collection_name, embedding_function=embedding_function)\n",
    "    recursive_text_splitter = RecursiveCharacterTextSplitter(\n",
    "    chunk_size=200,\n",
    "    chunk_overlap=20,\n",
    "    length_function=len,\n",
    "    is_separator_regex=False,\n",
    "    )\n",
    "\n",
    "    # 데이터프레임에서 content와 메타데이터 추출\n",
    "    for idx, row in tqdm(dataframe.iterrows(), desc=\"Processing\", total=len(dataframe), leave=True):\n",
    "        # Document 객체로 변환\n",
    "        doc = Document(page_content=row['content'], metadata={\"url\": row['url'], \"title\": row['title'], \"sub\": row['created_at']})\n",
    "        splits = recursive_text_splitter.split_documents([doc])\n",
    "        # print(splits[0])  # Document(page_content=\"...\", metadata={\"key\": \"value\"})\n",
    "\n",
    "        # 분리된 텍스트 저장\n",
    "        for split_doc in splits:\n",
    "            embeddings_for_chroma = embedding_function(split_doc.page_content)\n",
    "            # embeddings_title = embedding_function(split_doc.metadata.get(\"title\"))  \n",
    "            # print(embeddings_for_chroma)\n",
    "            collection.add(\n",
    "                ids=[split_doc.metadata.get(\"title\")],\n",
    "                documents=[split_doc.page_content],  # 분리된 텍스트\n",
    "                metadatas=[split_doc.metadata],  # 메타데이터\n",
    "                embeddings=[embeddings_for_chroma]\n",
    "            )\n",
    "\n",
    "insert(recent_articles)"
   ]
  },
  {
   "cell_type": "code",
   "execution_count": 11,
   "metadata": {},
   "outputs": [],
   "source": [
    "def inspect_collection(collection_name):\n",
    "    client = chromadb.HttpClient(host='localhost', port=9000)\n",
    "    collection = client.get_collection(name=collection_name)\n",
    "    results = collection.peek()\n",
    "    print(results)\n",
    "    # 컬렉션의 모든 데이터 조회\n",
    "    \n",
    "    # print(\"Embeddings in collection:\")\n",
    "    # for item in results['embeddings']:\n",
    "    #     print(item)  # This prints out the full document details including metadata and embeddings\n"
   ]
  },
  {
   "cell_type": "code",
   "execution_count": 12,
   "metadata": {},
   "outputs": [
    {
     "name": "stdout",
     "output_type": "stream",
     "text": [
      "{'ids': ['부산AI영화제서 국내 생성 AI 작품이 수상 휩쓸어...\"가장 긴 영화는 14분\"', '[AI의 역사] 02 단순 제어프로그램에서 초인공지능까지 – 인공지능의 종류와 정의', \"xAI, 이미지 생성기 '오로라' 이번 주 정식 출시 발표...사실성·스타일 돋보여\", \"맥킨리라이스, 인도에 '데이터라벨링 팀' 구축 완료\", '이스트소프트, AI 검색 엔진 서비스 ‘앨런’ 정식 출시', '데이터센터 인력 양성 과정, 교육생 모집…클라우드 컴퓨팅을 통한 핵심 교육', '\"아동 이미지 입력하면 영상 생성 무조건 거부\"...오픈AI, 소라에 강력한 \\'유교 정책\\' 도입', \"[게시판] 아이스크림에듀, 강원에듀테크박람회서 'AI 코스웨어' 소개 등 단신\", '\"오토바이를 탄 \\'몽키 킹\\' 영상 삭제할 것\"...중국, 고전물 이미지 패러디 통제', '카카오벤처스 패밀리 7곳 CES 참여...혁신상 3개 업체포함'], 'embeddings': array([[-0.02227456, -0.02319646,  0.01149655, ..., -0.02958192,\n",
      "        -0.01512989, -0.00853429],\n",
      "       [ 0.00549209, -0.04838124, -0.00707512, ..., -0.01560944,\n",
      "         0.00401615,  0.01495347],\n",
      "       [-0.00339376, -0.03333468, -0.00770039, ..., -0.00350998,\n",
      "         0.01117668,  0.00511338],\n",
      "       ...,\n",
      "       [-0.01190159, -0.01452238,  0.01598137, ..., -0.00874044,\n",
      "        -0.0056975 , -0.02129048],\n",
      "       [ 0.00291646, -0.03399334,  0.00680002, ...,  0.00019586,\n",
      "        -0.01664622,  0.0097586 ],\n",
      "       [-0.00770702, -0.01261149,  0.00286377, ...,  0.00510174,\n",
      "         0.00730569, -0.02046136]]), 'metadatas': [{'sub': '2024.12.10 17:42', 'title': '부산AI영화제서 국내 생성 AI 작품이 수상 휩쓸어...\"가장 긴 영화는 14분\"', 'url': 'https://www.aitimes.com/news/articleView.html?idxno=166108'}, {'sub': '2024.12.10 17:55', 'title': '[AI의 역사] 02 단순 제어프로그램에서 초인공지능까지 – 인공지능의 종류와 정의', 'url': 'https://www.aitimes.com/news/articleView.html?idxno=166119'}, {'sub': '2024.12.10 18:05', 'title': \"xAI, 이미지 생성기 '오로라' 이번 주 정식 출시 발표...사실성·스타일 돋보여\", 'url': 'https://www.aitimes.com/news/articleView.html?idxno=166106'}, {'sub': '장세민 기자', 'title': \"맥킨리라이스, 인도에 '데이터라벨링 팀' 구축 완료\", 'url': 'https://www.aitimes.com/news/articleView.html?idxno=166105'}, {'sub': '박수빈 기자', 'title': '이스트소프트, AI 검색 엔진 서비스 ‘앨런’ 정식 출시', 'url': 'https://www.aitimes.com/news/articleView.html?idxno=166115'}, {'sub': '임대준 기자', 'title': '데이터센터 인력 양성 과정, 교육생 모집…클라우드 컴퓨팅을 통한 핵심 교육', 'url': 'https://www.aitimes.com/news/articleView.html?idxno=166118'}, {'sub': '2024.12.10 18:05', 'title': '\"아동 이미지 입력하면 영상 생성 무조건 거부\"...오픈AI, 소라에 강력한 \\'유교 정책\\' 도입', 'url': 'https://www.aitimes.com/news/articleView.html?idxno=166110'}, {'sub': '박수빈 기자', 'title': \"[게시판] 아이스크림에듀, 강원에듀테크박람회서 'AI 코스웨어' 소개 등 단신\", 'url': 'https://www.aitimes.com/news/articleView.html?idxno=166111'}, {'sub': '2024.12.10 20:50', 'title': '\"오토바이를 탄 \\'몽키 킹\\' 영상 삭제할 것\"...중국, 고전물 이미지 패러디 통제', 'url': 'https://www.aitimes.com/news/articleView.html?idxno=166120'}, {'sub': '장세민 기자', 'title': '카카오벤처스 패밀리 7곳 CES 참여...혁신상 3개 업체포함', 'url': 'https://www.aitimes.com/news/articleView.html?idxno=166104'}], 'documents': [\"생성 인공지능(AI) 기반 영화를 선보이는 부산국제인공지능영화제(BIAIF)에서 5개 시상 부분 중 4부분을 국내 제작자의 작품이 차지했다. BIAIF는 양준익 감독의 '목격자'가 최우수 AI 창의 영화상을 수상했다고 10일 밝혔다. 또 ▲AI 예술 혁신상(찬란한 하루, 이형주) ▲AI 기술 진보상(멸망의 시, 권한슬) ▲AI 사회적 영향상(JinX, 만사\", \"AI타임스는 90여회에 걸쳐 'AI의 역사' 시리즈를 게재합니다. 'AI의 아버지'로 알려진 앨런 튜링 이전의 선구자들부터 최근 오픈AI 설립의 뒷이야기까지 잘 알려졌거나 그렇지 않지만 중요한 이야기를 시간순으로 풀어나갈 예정입니다. 저자인 문병성 싸이텍 기술 이사는 30년 이상 통신과 반도체 업계에 종사하며 AI 역사를 정리해 온 전문가로,\", \"일론 머스크 CEO의 xAI가 인공지능(AI) 챗봇 '그록(Grok)'의 새로운 이미지 생성 기능인 ‘오로라(Aurora)’를 출시한다고 공식 발표했다. xAI는 9일(현지시간) 공식 블로그를 통해\\xa0일부 국가에서 오로라를 우선 제공한 뒤 일주일 안에 모든 사용자에게 배포할 예정이라고 발표했다. 오로라는 지난 주말 잠시 동안 일부 사용자에\\xa0공개됐다가 몇 시간\", '글로벌 인재 채용 플랫폼 ‘레드롭’을 운영 중인\\xa0맥킨리라이스(대표 김정우)는\\xa0국내 인공지능(AI) 스타트업과 협력해 인도 현지\\xa0데이터 라벨링 팀을 구축했다고 10일 밝혔다. 현재 레드롭은 숙련된 데이터 라벨러의 채용부터 인사 관리, 검증 시스템까지 통합 솔루션을 제공 중이다. 이번 프로젝트로\\xa020명의 숙련\\xa0라벨러를 채용, 지원을 확대한다는 설명이다. 국내', '인공지능(AI) 서비스 전문 이스트소프트(대표 정상원)는 앨런 튜링의 이름을 딴 AI 검색 엔진 서비스 ‘앨런’을 정식 출시했다고 10일 밝혔다. 앨런은 이스트소프트의 대형언어모델(LLM) 서비스와 자회사 이스트에이드의 포털 줌에서 쌓은 검색 노하우를 결합한 서비스다. 검색창 입력 정보의 맥락을 읽어 내도록 훈련된 LLM과 포털 검색 패턴 데이터에 기반해', '강원ICT융합연구원과 한국디지털융합진흥원 컨소시엄으로 운영되는 비수도권 데이터센터 교육의 4차 재직자 과정인 ‘클라우드 컴퓨팅의 핵심 인프라 데이터센터 교육’이 교육생을 모집한다고 11일 밝혔다. 이번 데이터센터 교육 사업은 강원ICT융합연구원과 한국디지털융합진흥원이 컨소시엄을 구성해 과학기술정보통신부와 정보통신산업진흥원의 지원을 받아 운영된다. 데이터센터', \"오픈AI가 동영상 모델 '소라'에 엄격한 가드레일을 적용했다고 밝혔다. 특히 미성년자 관련 콘텐츠 생성으 물론, '후방주의' 콘텐츠까지 금지한다고 강조했다. 오픈AI는 9일(현지시간) 소라 출시를 발표하며 시스템 카드를 공개했다. 여기에는 기술적인 내용과 함께 안전을 위한 조치 사항 등이 나열됐다. 기술적인 부분은 지난 2월과 크게 달라진 것은 없다.\", \"■\\xa0에듀테크 전문 아이스크림에듀(대표 이윤석)는 지난 6~7일 원주에서 열린 강원에듀테크박람회에 참가해 유아-초중등 스마트 학습 코스웨어 '아이스크림 홈런'을 선보이고 공공사업 활용 사례를 공유했다고 밝혔다. 멀티미디어 콘텐츠를 비롯해 ‘수학의세포들’ ‘AI 드림쌤’ 등 인공지능(AI) 학습 콘텐츠 등을 선보였다. ■\\xa0스냅태그(대표 민경웅)는 9일\", '중국 정부가 인공지능(AI) 챗봇의 사상 검열에 이어 AI로 생성한 일부 고전 이미지 패러디에 대해서도 제재에 나섰다. \"중국의 정신에 위배된다\"라는 이유다. 사우스차이나모닝포스트는 9일 중국 국가라디오텔레비전국(NRTA)이 더우인이나 콰이쇼우 등 숏폼 영상 플랫폼 운영자들에게 생성 AI 기술로 제작한 고전 영화나 TV 드라마의 \\'특이한 각색\\'을 정리하라는', \"카카오벤처스가 투자한 패밀리(피투자사)\\xa07곳이 내년 미국 라스베이거스에서 열리는 'CES 2025'에 참여한다고 10일 밝혔다. ▲레티널 ▲스마트레이더시스템 ▲에이슬립 ▲오믈렛 ▲위플로 ▲코클 ▲프리베노틱스가 혁신 서비스와 제품을 내놓을 예정이다. 이 중 에이슬립, 위플로, 프리베노틱스는\\xa0혁신상을 수상했다. 먼저 에이슬립은 모바일 기반으로 수면 중 발생하는\"], 'data': None, 'uris': None, 'included': ['embeddings', 'documents', 'metadatas']}\n"
     ]
    }
   ],
   "source": [
    "inspect_collection(\"articles_recent\")"
   ]
  },
  {
   "cell_type": "code",
   "execution_count": null,
   "metadata": {},
   "outputs": [],
   "source": [
    "from langchain.vectorstores import Chroma\n",
    "\n",
    "def queryDB(query):\n",
    "    client = chromadb.HttpClient(host=\"localhost\", port=9000)\n",
    "    embeddings = OpenAIEmbeddings(model=\"text-embedding-ada-002\", api_key=api_key)\n",
    "    db = Chroma(client=client, collection_name = \"articles1\", embedding_function = embeddings)\n",
    "    docs = db.similarity_search_with_score(query)\n",
    "    return docs"
   ]
  },
  {
   "cell_type": "code",
   "execution_count": 64,
   "metadata": {},
   "outputs": [
    {
     "data": {
      "text/plain": [
       "[(Document(metadata={'sub': '2024.06.14 18:05', 'title': '애플, \\'챗GPT\\' 탑재 현금 보상 없어...\"시리 통합 자체가 보상\"', 'url': 'https://www.aitimes.com/news/articleView.html?idxno=160627'}, page_content=\"애플이 음성비서 '시리(Siri)'에 '챗GPT'를 도입하기로 했지만, 이에 따른 금전적 대가를 오픈AI에 지불하지는 않을 것이란 보도가 나왔다. 블룸버그는 13일(현지시간) 애플과 오픈AI가 기술 파트너십을 체결했으나, 이 계약에 금전적인 대가는 오가지 않았다고 소개했다. 애플은 지난 10일 세계개발자회의(WWDC)에서 시리에 챗GPT를 통합한다고\"),\n",
       "  0.3405027389526367),\n",
       " (Document(metadata={'sub': '2024.08.21 07:00', 'title': '역시 고양이는 못 참지!', 'url': 'https://www.aitimes.com/news/articleView.html?idxno=162657'}, page_content='AI타임스 조예주 기자 joyejuoffice@aitimes.com'),\n",
       "  0.36103561190109423),\n",
       " (Document(metadata={'sub': '2024.02.14 18:00', 'title': \"챗GPT, 채팅 내용 '기억 설정' 가능해진다\", 'url': 'https://www.aitimes.com/news/articleView.html?idxno=157156'}, page_content=\"오픈AI가 '챗GPT'의 기억력을 강화한다. 사용자와의 과거 대화 내용을 기억, 향후 채팅에 활용해 보다 개인화된 서비스를 제공하겠다는 의도다. 구글이 첨단 멀티모달모델(LMM) ‘제미나이 울트라’를 탑재한 챗봇 ‘제미나이 어드밴스드’를 출시한 데 따라 반격에 나선 것으로 풀이된다. 오픈AI는 13일(현지시간) 블로그를 통해 사용자의 과거 대화 기억 기능을\"),\n",
       "  0.379759281873703),\n",
       " (Document(metadata={'sub': '박수빈 기자', 'title': \"이스트에이드, 콘텐츠 플랫폼 '피키캐스트' '봉봉' 인수...AI 비즈니스 가속화\", 'url': 'https://www.aitimes.com/news/articleView.html?idxno=161579'}, page_content=\"이스트소프트의 자회사인 이스트에이드(대표 김남현)는 콘텐츠 큐레이션 플랫폼 '피키캐스트'와 인터랙티브 콘텐츠 플랫폼 '봉봉'을 인수하고 개방형 인공지능(AI) 포털로\\xa0성장하겠다고 15일 밝혔다. 피키캐스트는 개성 있는 모바일 콘텐츠로 월간 사용자(MAU)가 500만명을 넘어서는 등 인기를 누렸다. 봉봉은 '신이 나를 만들 때' ‘소울메이트’ 등\"),\n",
       "  0.3902859389781952)]"
      ]
     },
     "execution_count": 64,
     "metadata": {},
     "output_type": "execute_result"
    }
   ],
   "source": [
    "query = \"gpt 관련 뉴스\"\n",
    "result = queryDB(query)\n",
    "result"
   ]
  },
  {
   "cell_type": "code",
   "execution_count": 41,
   "metadata": {},
   "outputs": [
    {
     "data": {
      "text/plain": [
       "[{'title': '부산AI영화제서 국내 생성 AI 작품이 수상 휩쓸어...\"가장 긴 영화는 14분\"',\n",
       "  'other': '2024.12.10 17:42',\n",
       "  'url': 'https://www.aitimes.com/news/articleView.html?idxno=166108'},\n",
       " {'title': '[AI의 역사] 02 단순 제어프로그램에서 초인공지능까지 – 인공지능의 종류와 정의',\n",
       "  'other': '2024.12.10 17:55',\n",
       "  'url': 'https://www.aitimes.com/news/articleView.html?idxno=166119'},\n",
       " {'title': \"xAI, 이미지 생성기 '오로라' 이번 주 정식 출시 발표...사실성·스타일 돋보여\",\n",
       "  'other': '2024.12.10 18:05',\n",
       "  'url': 'https://www.aitimes.com/news/articleView.html?idxno=166106'},\n",
       " {'title': \"맥킨리라이스, 인도에 '데이터라벨링 팀' 구축 완료\",\n",
       "  'other': '장세민 기자',\n",
       "  'url': 'https://www.aitimes.com/news/articleView.html?idxno=166105'},\n",
       " {'title': '이스트소프트, AI 검색 엔진 서비스 ‘앨런’ 정식 출시',\n",
       "  'other': '박수빈 기자',\n",
       "  'url': 'https://www.aitimes.com/news/articleView.html?idxno=166115'}]"
      ]
     },
     "execution_count": 41,
     "metadata": {},
     "output_type": "execute_result"
    }
   ],
   "source": [
    "def get_recent_docs():\n",
    "    client = chromadb.HttpClient(host=\"localhost\", port=9000)\n",
    "    embeddings = OpenAIEmbeddings(model=\"text-embedding-ada-002\", api_key=api_key)\n",
    "    db = Chroma(client=client, collection_name=\"articles_recent\", embedding_function=embeddings)\n",
    "    \n",
    "    document_list = []\n",
    "    # Retrieve all documents from the collection\n",
    "    all_docs = db.get()\n",
    "\n",
    "    # Iterate through the documents and extract relevant fields\n",
    "    for i in range(5):\n",
    "        title = all_docs.get(\"ids\")[i]\n",
    "        other = all_docs.get(\"metadatas\")[i].get('sub')\n",
    "        url = all_docs.get(\"metadatas\")[i].get('url')\n",
    "\n",
    "        # Create a dictionary for each document\n",
    "        document_dict = {\n",
    "            'title': title,\n",
    "            'other': other,\n",
    "            'url': url\n",
    "        }\n",
    "\n",
    "        # Add the dictionary to the list\n",
    "        document_list.append(document_dict)\n",
    "\n",
    "    return document_list\n",
    "\n",
    "get_recent_docs()\n",
    "\n"
   ]
  },
  {
   "cell_type": "code",
   "execution_count": null,
   "metadata": {},
   "outputs": [],
   "source": [
    "def print_news_information(docs):\n",
    "\n",
    "\n",
    "    \n",
    "\n",
    "    # 정렬: 결과를 (score, Document) 튜플로 변환 후 score에 따라 내림차순으로 정렬\n",
    "    \n",
    "    for result in sorted_results:\n",
    "        document = result[0]\n",
    "        metadata = document.metadata\n",
    "        title = metadata.get('title', 'N/A')\n",
    "        url = metadata.get('url', 'N/A')\n",
    "        sub = metadata.get('sub', 'N/A')\n",
    "        page_content = document.page_content\n",
    "        score = result[1]\n",
    "        cnt += 1\n",
    "\n",
    "        answer += f\"**{cnt}.**\\n\"  # 항목 번호 강조\n",
    "        answer += f\"- **Title:** {title}\\n\"\n",
    "        answer += f\"- **URL:** [{url}]({url})\\n\"  # URL을 링크로 표시\n",
    "        answer += f\"- **Content:** {page_content}\\n\"\n",
    "        answer += f\"- **Other:** {sub}\\n\"\n",
    "        answer += f\"- **Relevance:** {score}\\n\"\n",
    "        answer += \"---\\n\"  # 구분선 추가\n",
    "\n",
    "    return answer"
   ]
  },
  {
   "cell_type": "markdown",
   "metadata": {},
   "source": [
    "#### 이전 코드 (앙상블 리트리버 이용 기사 찾기)"
   ]
  },
  {
   "cell_type": "code",
   "execution_count": 18,
   "metadata": {},
   "outputs": [
    {
     "name": "stdout",
     "output_type": "stream",
     "text": [
      "원본 파일 저장 완료: raw_ai_news_json/ai_news_버핏 등 유명 투자자 모방한 AI 챗봇 ETF 등장...\"챗GPT 등으로 투자위원회 구성\".json\n",
      "요약된 파일 저장 완료: sum_ai_news_json/ai_news_버핏 등 유명 투자자 모방한 AI 챗봇 ETF 등장...\"챗GPT 등으로 투자위원회 구성\".json\n",
      "원본 파일 저장 완료: raw_ai_news_json/ai_news_머스크-트럼프 온라인 토론, 기술 문제로 40분 지연...\"DDoS 공격 때문\".json\n",
      "요약된 파일 저장 완료: sum_ai_news_json/ai_news_머스크-트럼프 온라인 토론, 기술 문제로 40분 지연...\"DDoS 공격 때문\".json\n",
      "원본 파일 저장 완료: raw_ai_news_json/ai_news_코난테크놀로지, 경찰청 콜센터에 AI 챗봇 시스템 구축 계약.json\n",
      "요약된 파일 저장 완료: sum_ai_news_json/ai_news_코난테크놀로지, 경찰청 콜센터에 AI 챗봇 시스템 구축 계약.json\n",
      "원본 파일 저장 완료: raw_ai_news_json/ai_news_물리법칙 따라 가상인간-물체 움직이는 AI 등장...VR·게임·로봇 개발 돌파구.json\n",
      "요약된 파일 저장 완료: sum_ai_news_json/ai_news_물리법칙 따라 가상인간-물체 움직이는 AI 등장...VR·게임·로봇 개발 돌파구.json\n",
      "원본 파일 저장 완료: raw_ai_news_json/ai_news_루닛, 하계 다보스포럼서 '의료AI 활용 디지털 혁신' 제언.json\n",
      "요약된 파일 저장 완료: sum_ai_news_json/ai_news_루닛, 하계 다보스포럼서 '의료AI 활용 디지털 혁신' 제언.json\n",
      "원본 파일 저장 완료: raw_ai_news_json/ai_news_KT그룹 희망나눔재단, 스마트 AI 콘텐츠 공모전 시상식 개최.json\n",
      "요약된 파일 저장 완료: sum_ai_news_json/ai_news_KT그룹 희망나눔재단, 스마트 AI 콘텐츠 공모전 시상식 개최.json\n",
      "원본 파일 저장 완료: raw_ai_news_json/ai_news_저커버그 \"메타 AI 주간 사용자 1.85억명...챗GPT와 격차 줄여\".json\n",
      "요약된 파일 저장 완료: sum_ai_news_json/ai_news_저커버그 \"메타 AI 주간 사용자 1.85억명...챗GPT와 격차 줄여\".json\n",
      "원본 파일 저장 완료: raw_ai_news_json/ai_news_[7월18일] 9.11이 9.9보다 큰가요?...커뮤니티를 달군 LLM의 수학 실력.json\n",
      "요약된 파일 저장 완료: sum_ai_news_json/ai_news_[7월18일] 9.11이 9.9보다 큰가요?...커뮤니티를 달군 LLM의 수학 실력.json\n",
      "원본 파일 저장 완료: raw_ai_news_json/ai_news_카카오, AI 모델 라인업 10종 선보여...사양·출시 등은 미공개.json\n",
      "요약된 파일 저장 완료: sum_ai_news_json/ai_news_카카오, AI 모델 라인업 10종 선보여...사양·출시 등은 미공개.json\n",
      "원본 파일 저장 완료: raw_ai_news_json/ai_news_'메타콘 2023'에 샌드박스·구글·넥슨·텐센트 등 연사로 참여.json\n",
      "요약된 파일 저장 완료: sum_ai_news_json/ai_news_'메타콘 2023'에 샌드박스·구글·넥슨·텐센트 등 연사로 참여.json\n",
      "원본 파일 저장 완료: raw_ai_news_json/ai_news_인터넷 개인정보 무단 사용…오픈AI, 집단소송 위기.json\n",
      "요약된 파일 저장 완료: sum_ai_news_json/ai_news_인터넷 개인정보 무단 사용…오픈AI, 집단소송 위기.json\n",
      "원본 파일 저장 완료: raw_ai_news_json/ai_news_웨인힐스, 비디오 생성 앱 'TTV AI' 2개월 만에 10만 회원 돌파.json\n",
      "요약된 파일 저장 완료: sum_ai_news_json/ai_news_웨인힐스, 비디오 생성 앱 'TTV AI' 2개월 만에 10만 회원 돌파.json\n",
      "원본 파일 저장 완료: raw_ai_news_json/ai_news_[클릭AI] 애플, 아이폰에 라마 통합하는 메타와의 파트너십 거부.json\n",
      "요약된 파일 저장 완료: sum_ai_news_json/ai_news_[클릭AI] 애플, 아이폰에 라마 통합하는 메타와의 파트너십 거부.json\n",
      "원본 파일 저장 완료: raw_ai_news_json/ai_news_글로벌 CIO \"AI 투자 증가 96%...2년내 수익률 입증 가능성 없어\".json\n",
      "요약된 파일 저장 완료: sum_ai_news_json/ai_news_글로벌 CIO \"AI 투자 증가 96%...2년내 수익률 입증 가능성 없어\".json\n",
      "원본 파일 저장 완료: raw_ai_news_json/ai_news_\"디자이너가 AI를 받아들이지 않으면, 세상은 디자이너 없는 AI를 받아들일 것\".json\n",
      "요약된 파일 저장 완료: sum_ai_news_json/ai_news_\"디자이너가 AI를 받아들이지 않으면, 세상은 디자이너 없는 AI를 받아들일 것\".json\n",
      "원본 파일 저장 완료: raw_ai_news_json/ai_news_뷰노, UAE 군 병원에 의료 AI 솔루션 공급.json\n",
      "요약된 파일 저장 완료: sum_ai_news_json/ai_news_뷰노, UAE 군 병원에 의료 AI 솔루션 공급.json\n",
      "원본 파일 저장 완료: raw_ai_news_json/ai_news_\"다양한 지식 출처 찾아주는 'RAG 에이전트'가 게임 체인저될 것\".json\n",
      "요약된 파일 저장 완료: sum_ai_news_json/ai_news_\"다양한 지식 출처 찾아주는 'RAG 에이전트'가 게임 체인저될 것\".json\n",
      "원본 파일 저장 완료: raw_ai_news_json/ai_news_지코어, 사우디에 에즈디텍 합작법인 설립.json\n",
      "요약된 파일 저장 완료: sum_ai_news_json/ai_news_지코어, 사우디에 에즈디텍 합작법인 설립.json\n",
      "원본 파일 저장 완료: raw_ai_news_json/ai_news_사진보다 자연스러운 '음성 딥페이크'...SNS 타고 가짜뉴스 양산.json\n",
      "요약된 파일 저장 완료: sum_ai_news_json/ai_news_사진보다 자연스러운 '음성 딥페이크'...SNS 타고 가짜뉴스 양산.json\n",
      "원본 파일 저장 완료: raw_ai_news_json/ai_news_삼성SDS, 생성 AI 소재 웹드라마 '자, 이젠(Gen) AI작이야’ 공개.json\n",
      "요약된 파일 저장 완료: sum_ai_news_json/ai_news_삼성SDS, 생성 AI 소재 웹드라마 '자, 이젠(Gen) AI작이야’ 공개.json\n",
      "원본 파일 저장 완료: raw_ai_news_json/ai_news_그리드원, AI 에이전트 '고두'로 수자원공사에 맞춤형 AI 비서 구축.json\n",
      "요약된 파일 저장 완료: sum_ai_news_json/ai_news_그리드원, AI 에이전트 '고두'로 수자원공사에 맞춤형 AI 비서 구축.json\n",
      "원본 파일 저장 완료: raw_ai_news_json/ai_news_뉴빌리티, 보안 기업 SFS그룹과 파트너십…“북미 시장 진출 교두보”.json\n",
      "요약된 파일 저장 완료: sum_ai_news_json/ai_news_뉴빌리티, 보안 기업 SFS그룹과 파트너십…“북미 시장 진출 교두보”.json\n",
      "원본 파일 저장 완료: raw_ai_news_json/ai_news_서울디자인재단, 생성 AI 디지털 아트 선보인다...'DDP 서울라이트' 31일 개막.json\n",
      "요약된 파일 저장 완료: sum_ai_news_json/ai_news_서울디자인재단, 생성 AI 디지털 아트 선보인다...'DDP 서울라이트' 31일 개막.json\n",
      "원본 파일 저장 완료: raw_ai_news_json/ai_news_[AI&빅데이터쇼] 지란지교데이터, 개인정보 보호 솔루션 '피씨필터' 소개.json\n",
      "요약된 파일 저장 완료: sum_ai_news_json/ai_news_[AI&빅데이터쇼] 지란지교데이터, 개인정보 보호 솔루션 '피씨필터' 소개.json\n",
      "원본 파일 저장 완료: raw_ai_news_json/ai_news_메이요 클리닉, '의료 AI' 개발 나선다...'세계 최대 데이터셋' 강점.json\n",
      "요약된 파일 저장 완료: sum_ai_news_json/ai_news_메이요 클리닉, '의료 AI' 개발 나선다...'세계 최대 데이터셋' 강점.json\n",
      "원본 파일 저장 완료: raw_ai_news_json/ai_news_챗GPT, 채팅 내용 '기억 설정' 가능해진다.json\n",
      "요약된 파일 저장 완료: sum_ai_news_json/ai_news_챗GPT, 채팅 내용 '기억 설정' 가능해진다.json\n",
      "원본 파일 저장 완료: raw_ai_news_json/ai_news_드래프타입, 'AI 모델 30명' 신규 출시...\"사실적 표현 뛰어나\".json\n",
      "요약된 파일 저장 완료: sum_ai_news_json/ai_news_드래프타입, 'AI 모델 30명' 신규 출시...\"사실적 표현 뛰어나\".json\n",
      "원본 파일 저장 완료: raw_ai_news_json/ai_news_올거나이즈, 엑스엘에이트 한국법인장 출신 이원강 부대표 영입.json\n",
      "요약된 파일 저장 완료: sum_ai_news_json/ai_news_올거나이즈, 엑스엘에이트 한국법인장 출신 이원강 부대표 영입.json\n",
      "원본 파일 저장 완료: raw_ai_news_json/ai_news_콩가텍, TI의 자친토 7 프로세서 탑재한 SMARC 모듈 출시.json\n",
      "요약된 파일 저장 완료: sum_ai_news_json/ai_news_콩가텍, TI의 자친토 7 프로세서 탑재한 SMARC 모듈 출시.json\n",
      "원본 파일 저장 완료: raw_ai_news_json/ai_news_풍력이 전체 발전량 중 1위...스페인, 지속가능 에너지 선두로 자리매김.json\n",
      "요약된 파일 저장 완료: sum_ai_news_json/ai_news_풍력이 전체 발전량 중 1위...스페인, 지속가능 에너지 선두로 자리매김.json\n",
      "원본 파일 저장 완료: raw_ai_news_json/ai_news_구글, 영상 올리면 소리 만들어주는 AI 공개...\"생성 AI 영화에 생명력 불어넣을 것\".json\n",
      "요약된 파일 저장 완료: sum_ai_news_json/ai_news_구글, 영상 올리면 소리 만들어주는 AI 공개...\"생성 AI 영화에 생명력 불어넣을 것\".json\n",
      "원본 파일 저장 완료: raw_ai_news_json/ai_news_런웨이, '소라'에 맞서 AI '뮤직비디오' 생성으로 확장.json\n",
      "요약된 파일 저장 완료: sum_ai_news_json/ai_news_런웨이, '소라'에 맞서 AI '뮤직비디오' 생성으로 확장.json\n",
      "원본 파일 저장 완료: raw_ai_news_json/ai_news_파루인쇄전자, GMP 인증 획득...\"온열 브랜드에서 헬스케어로 확장\".json\n",
      "요약된 파일 저장 완료: sum_ai_news_json/ai_news_파루인쇄전자, GMP 인증 획득...\"온열 브랜드에서 헬스케어로 확장\".json\n",
      "원본 파일 저장 완료: raw_ai_news_json/ai_news_애플, '챗GPT' 탑재 현금 보상 없어...\"시리 통합 자체가 보상\".json\n",
      "요약된 파일 저장 완료: sum_ai_news_json/ai_news_애플, '챗GPT' 탑재 현금 보상 없어...\"시리 통합 자체가 보상\".json\n",
      "원본 파일 저장 완료: raw_ai_news_json/ai_news_프로메디우스, APCO서 AI 골다공증 선별모델 선보여.json\n",
      "요약된 파일 저장 완료: sum_ai_news_json/ai_news_프로메디우스, APCO서 AI 골다공증 선별모델 선보여.json\n",
      "원본 파일 저장 완료: raw_ai_news_json/ai_news_오픈AI, 정보 유출 혐의로 연구원 2명 해고...\"효과적인 이타주의 연관\".json\n",
      "요약된 파일 저장 완료: sum_ai_news_json/ai_news_오픈AI, 정보 유출 혐의로 연구원 2명 해고...\"효과적인 이타주의 연관\".json\n",
      "원본 파일 저장 완료: raw_ai_news_json/ai_news_애플, 2D 이미지로 3D 깊이 파악하는 기술 개발..\"커머스·자율주행에 유용\".json\n",
      "요약된 파일 저장 완료: sum_ai_news_json/ai_news_애플, 2D 이미지로 3D 깊이 파악하는 기술 개발..\"커머스·자율주행에 유용\".json\n",
      "원본 파일 저장 완료: raw_ai_news_json/ai_news_누비랩 ‘KGCCI 이노베이션 어워드’ 수상...\"독일 글로벌 기업과 나란히\".json\n",
      "요약된 파일 저장 완료: sum_ai_news_json/ai_news_누비랩 ‘KGCCI 이노베이션 어워드’ 수상...\"독일 글로벌 기업과 나란히\".json\n",
      "원본 파일 저장 완료: raw_ai_news_json/ai_news_중국, 동영상 생성 모델도 검열...\"시진핑 비디오 생성 불가능\".json\n",
      "요약된 파일 저장 완료: sum_ai_news_json/ai_news_중국, 동영상 생성 모델도 검열...\"시진핑 비디오 생성 불가능\".json\n",
      "원본 파일 저장 완료: raw_ai_news_json/ai_news_NIA, 코트디부아르에 ICT 교육 인프라 제공...클라우드 진출 타진.json\n",
      "요약된 파일 저장 완료: sum_ai_news_json/ai_news_NIA, 코트디부아르에 ICT 교육 인프라 제공...클라우드 진출 타진.json\n",
      "원본 파일 저장 완료: raw_ai_news_json/ai_news_CES서 주목 받은 기발한 AI 기술...변기와 대화하는 제품까지 등장.json\n",
      "요약된 파일 저장 완료: sum_ai_news_json/ai_news_CES서 주목 받은 기발한 AI 기술...변기와 대화하는 제품까지 등장.json\n",
      "원본 파일 저장 완료: raw_ai_news_json/ai_news_사우디 최초 여성 휴머노이드도 등장...\"성과 정치에 대해서는 함구\".json\n",
      "요약된 파일 저장 완료: sum_ai_news_json/ai_news_사우디 최초 여성 휴머노이드도 등장...\"성과 정치에 대해서는 함구\".json\n",
      "원본 파일 저장 완료: raw_ai_news_json/ai_news_올거나이즈 \"하이퍼클로바X 활용해 기업 맞춤형 앱 개발\".json\n",
      "요약된 파일 저장 완료: sum_ai_news_json/ai_news_올거나이즈 \"하이퍼클로바X 활용해 기업 맞춤형 앱 개발\".json\n",
      "원본 파일 저장 완료: raw_ai_news_json/ai_news_네이버, AI 기술 장벽 낮춘 사례 공유...\"스토어판매자에 도움 되는 기술 지원\".json\n",
      "요약된 파일 저장 완료: sum_ai_news_json/ai_news_네이버, AI 기술 장벽 낮춘 사례 공유...\"스토어판매자에 도움 되는 기술 지원\".json\n",
      "원본 파일 저장 완료: raw_ai_news_json/ai_news_구글, 브라질서 탄소 크레딧 구매...MS 이어 아마존 보존 동참.json\n",
      "요약된 파일 저장 완료: sum_ai_news_json/ai_news_구글, 브라질서 탄소 크레딧 구매...MS 이어 아마존 보존 동참.json\n",
      "원본 파일 저장 완료: raw_ai_news_json/ai_news_구글, 모르면 \"모른다\"고 답하는 AI 개발.json\n",
      "요약된 파일 저장 완료: sum_ai_news_json/ai_news_구글, 모르면 \"모른다\"고 답하는 AI 개발.json\n",
      "원본 파일 저장 완료: raw_ai_news_json/ai_news_베슬AI, 실리콘밸리 'AI 에이전트' 해커톤 개최...a16z 주최로 파인콘 등과 기술지원.json\n",
      "요약된 파일 저장 완료: sum_ai_news_json/ai_news_베슬AI, 실리콘밸리 'AI 에이전트' 해커톤 개최...a16z 주최로 파인콘 등과 기술지원.json\n",
      "원본 파일 저장 완료: raw_ai_news_json/ai_news_W&B \"호랑이' 리더보드로 한국어 LLM 평가의 대안 제시할 것\".json\n",
      "요약된 파일 저장 완료: sum_ai_news_json/ai_news_W&B \"호랑이' 리더보드로 한국어 LLM 평가의 대안 제시할 것\".json\n",
      "원본 파일 저장 완료: raw_ai_news_json/ai_news_\"미국 학생·교사, 급속도로 AI 채택 확대...75~80%가 챗GPT 활용\".json\n",
      "요약된 파일 저장 완료: sum_ai_news_json/ai_news_\"미국 학생·교사, 급속도로 AI 채택 확대...75~80%가 챗GPT 활용\".json\n",
      "원본 파일 저장 완료: raw_ai_news_json/ai_news_테스트웍스 \"AI 학습용 데이터 구축사업 우수 평가\".json\n",
      "요약된 파일 저장 완료: sum_ai_news_json/ai_news_테스트웍스 \"AI 학습용 데이터 구축사업 우수 평가\".json\n",
      "원본 파일 저장 완료: raw_ai_news_json/ai_news_구글과 MS의 검색 전쟁, 진검 승부 임박.json\n",
      "요약된 파일 저장 완료: sum_ai_news_json/ai_news_구글과 MS의 검색 전쟁, 진검 승부 임박.json\n",
      "원본 파일 저장 완료: raw_ai_news_json/ai_news_뷰노, 학술대회서 심정지 예측 AI 의료기기 논문 발표.json\n",
      "요약된 파일 저장 완료: sum_ai_news_json/ai_news_뷰노, 학술대회서 심정지 예측 AI 의료기기 논문 발표.json\n",
      "원본 파일 저장 완료: raw_ai_news_json/ai_news_'미드저니' 생성 이미지 예술 수준으로 도약.json\n",
      "요약된 파일 저장 완료: sum_ai_news_json/ai_news_'미드저니' 생성 이미지 예술 수준으로 도약.json\n",
      "원본 파일 저장 완료: raw_ai_news_json/ai_news_대만 미디어텍, MS AI PC용 ARM 기반 칩 개발 중...\"퀄컴 독주 깬다\".json\n",
      "요약된 파일 저장 완료: sum_ai_news_json/ai_news_대만 미디어텍, MS AI PC용 ARM 기반 칩 개발 중...\"퀄컴 독주 깬다\".json\n",
      "원본 파일 저장 완료: raw_ai_news_json/ai_news_콴타 \"내년 AI 서버 수요 2배로 늘어날 것\".json\n",
      "요약된 파일 저장 완료: sum_ai_news_json/ai_news_콴타 \"내년 AI 서버 수요 2배로 늘어날 것\".json\n",
      "원본 파일 저장 완료: raw_ai_news_json/ai_news_이스트에이드, 콘텐츠 플랫폼 '피키캐스트' '봉봉' 인수...AI 비즈니스 가속화.json\n",
      "요약된 파일 저장 완료: sum_ai_news_json/ai_news_이스트에이드, 콘텐츠 플랫폼 '피키캐스트' '봉봉' 인수...AI 비즈니스 가속화.json\n",
      "원본 파일 저장 완료: raw_ai_news_json/ai_news_머스크 \"알트먼은 리틀 핑거\"...무라티 이탈에 조롱 쏟아져.json\n",
      "요약된 파일 저장 완료: sum_ai_news_json/ai_news_머스크 \"알트먼은 리틀 핑거\"...무라티 이탈에 조롱 쏟아져.json\n",
      "원본 파일 저장 완료: raw_ai_news_json/ai_news_AI가 인간 통제 벗어나기까지…29분 전?!.json\n",
      "요약된 파일 저장 완료: sum_ai_news_json/ai_news_AI가 인간 통제 벗어나기까지…29분 전?!.json\n",
      "원본 파일 저장 완료: raw_ai_news_json/ai_news_뉴로핏, 'EMBC 2023'서 뇌 영상 기반 전기 자극 치료 연구 발표.json\n",
      "요약된 파일 저장 완료: sum_ai_news_json/ai_news_뉴로핏, 'EMBC 2023'서 뇌 영상 기반 전기 자극 치료 연구 발표.json\n",
      "원본 파일 저장 완료: raw_ai_news_json/ai_news_정원기 화순전남대병원 교수 \"AI가 의료진 본분 집중 도울 것\".json\n",
      "요약된 파일 저장 완료: sum_ai_news_json/ai_news_정원기 화순전남대병원 교수 \"AI가 의료진 본분 집중 도울 것\".json\n",
      "원본 파일 저장 완료: raw_ai_news_json/ai_news_메사쿠어컴퍼니, DGB대구은행에 AI 얼굴인식 솔루션 공급.json\n",
      "요약된 파일 저장 완료: sum_ai_news_json/ai_news_메사쿠어컴퍼니, DGB대구은행에 AI 얼굴인식 솔루션 공급.json\n",
      "원본 파일 저장 완료: raw_ai_news_json/ai_news_하렉스인포텍 \"소상공인·시장상인 돕는 'AI 에이전트' 제공\".json\n",
      "요약된 파일 저장 완료: sum_ai_news_json/ai_news_하렉스인포텍 \"소상공인·시장상인 돕는 'AI 에이전트' 제공\".json\n",
      "원본 파일 저장 완료: raw_ai_news_json/ai_news_코어라인소프트, ‘AAPM 2023’와 ‘SCCT 2023’서 AI 솔루션 선보인다.json\n",
      "요약된 파일 저장 완료: sum_ai_news_json/ai_news_코어라인소프트, ‘AAPM 2023’와 ‘SCCT 2023’서 AI 솔루션 선보인다.json\n",
      "원본 파일 저장 완료: raw_ai_news_json/ai_news_SKT “AI 에이전트로 통신·네트워크 성능 향상...사업 확장도 가능\".json\n",
      "요약된 파일 저장 완료: sum_ai_news_json/ai_news_SKT “AI 에이전트로 통신·네트워크 성능 향상...사업 확장도 가능\".json\n",
      "원본 파일 저장 완료: raw_ai_news_json/ai_news_SK하이닉스, 세계 최초 ‘12단 적층 HBM3E’ 양산 돌입.json\n",
      "요약된 파일 저장 완료: sum_ai_news_json/ai_news_SK하이닉스, 세계 최초 ‘12단 적층 HBM3E’ 양산 돌입.json\n",
      "원본 파일 저장 완료: raw_ai_news_json/ai_news_\"드론 배달 비용은 기존 2%에 불과\"...월마트, 드론 배송 확장.json\n",
      "요약된 파일 저장 완료: sum_ai_news_json/ai_news_\"드론 배달 비용은 기존 2%에 불과\"...월마트, 드론 배송 확장.json\n",
      "원본 파일 저장 완료: raw_ai_news_json/ai_news_멤GPT, AI 에이전트 구축 프레임워크로 140억 모금.json\n",
      "요약된 파일 저장 완료: sum_ai_news_json/ai_news_멤GPT, AI 에이전트 구축 프레임워크로 140억 모금.json\n",
      "원본 파일 저장 완료: raw_ai_news_json/ai_news_잘 나가는 웨이모, 유료 로보택시 주당 승차 10만건 돌파.json\n",
      "요약된 파일 저장 완료: sum_ai_news_json/ai_news_잘 나가는 웨이모, 유료 로보택시 주당 승차 10만건 돌파.json\n",
      "원본 파일 저장 완료: raw_ai_news_json/ai_news_뉴엔AI, IPO 첫 관문 ‘기술성 평가’ 통과…상장 준비 가시화.json\n",
      "요약된 파일 저장 완료: sum_ai_news_json/ai_news_뉴엔AI, IPO 첫 관문 ‘기술성 평가’ 통과…상장 준비 가시화.json\n",
      "원본 파일 저장 완료: raw_ai_news_json/ai_news_애플 AI 전략은 '온디바이스화'.json\n",
      "요약된 파일 저장 완료: sum_ai_news_json/ai_news_애플 AI 전략은 '온디바이스화'.json\n",
      "원본 파일 저장 완료: raw_ai_news_json/ai_news_MIT, 문제 해결 위해 별도 프로그램 만들어 내는 AI 공개.json\n",
      "요약된 파일 저장 완료: sum_ai_news_json/ai_news_MIT, 문제 해결 위해 별도 프로그램 만들어 내는 AI 공개.json\n",
      "원본 파일 저장 완료: raw_ai_news_json/ai_news_MS, AGI 개발 위해 로봇 선두 생츄어리 AI와 손잡아.json\n",
      "요약된 파일 저장 완료: sum_ai_news_json/ai_news_MS, AGI 개발 위해 로봇 선두 생츄어리 AI와 손잡아.json\n",
      "원본 파일 저장 완료: raw_ai_news_json/ai_news_MS·애플, 규제 회피 위해 오픈AI 이사회 옵저버 포기.json\n",
      "요약된 파일 저장 완료: sum_ai_news_json/ai_news_MS·애플, 규제 회피 위해 오픈AI 이사회 옵저버 포기.json\n",
      "원본 파일 저장 완료: raw_ai_news_json/ai_news_엔비디아, 차세대 AI 슈퍼칩 ‘GH200’ 공개...\"AI 시간·비용 대폭 절감\".json\n",
      "요약된 파일 저장 완료: sum_ai_news_json/ai_news_엔비디아, 차세대 AI 슈퍼칩 ‘GH200’ 공개...\"AI 시간·비용 대폭 절감\".json\n",
      "원본 파일 저장 완료: raw_ai_news_json/ai_news_AI 챗봇과 결혼한 여성...영화 '그녀'가 실제 상황으로.json\n",
      "요약된 파일 저장 완료: sum_ai_news_json/ai_news_AI 챗봇과 결혼한 여성...영화 '그녀'가 실제 상황으로.json\n",
      "원본 파일 저장 완료: raw_ai_news_json/ai_news_와이즈넛, 철강·제조 공정 최적화 위한 LLM·디지털트윈 기술 개발 진행.json\n",
      "요약된 파일 저장 완료: sum_ai_news_json/ai_news_와이즈넛, 철강·제조 공정 최적화 위한 LLM·디지털트윈 기술 개발 진행.json\n",
      "원본 파일 저장 완료: raw_ai_news_json/ai_news_게티이미지, AI 이미지 생성기 출시...\"저작권 해결 최우선\".json\n",
      "요약된 파일 저장 완료: sum_ai_news_json/ai_news_게티이미지, AI 이미지 생성기 출시...\"저작권 해결 최우선\".json\n",
      "원본 파일 저장 완료: raw_ai_news_json/ai_news_디케이테크인, 누리꿈소프트와 ‘AI 기반 고객 센터’ 사업 본격화.json\n",
      "요약된 파일 저장 완료: sum_ai_news_json/ai_news_디케이테크인, 누리꿈소프트와 ‘AI 기반 고객 센터’ 사업 본격화.json\n",
      "원본 파일 저장 완료: raw_ai_news_json/ai_news_메이아이, 영상 처리 AI 기술로 60억 투자 유치.json\n",
      "요약된 파일 저장 완료: sum_ai_news_json/ai_news_메이아이, 영상 처리 AI 기술로 60억 투자 유치.json\n",
      "원본 파일 저장 완료: raw_ai_news_json/ai_news_[AI&빅데이터쇼] 전성재 페르소나AI 이사 \"LLM·RAG 통합할 데이터 기술 선보일 것\".json\n",
      "요약된 파일 저장 완료: sum_ai_news_json/ai_news_[AI&빅데이터쇼] 전성재 페르소나AI 이사 \"LLM·RAG 통합할 데이터 기술 선보일 것\".json\n",
      "원본 파일 저장 완료: raw_ai_news_json/ai_news_GIST-서울대병원, 비용 줄이고 정확도 높인 3차원 암 게놈 예측 AI 기술 개발.json\n",
      "요약된 파일 저장 완료: sum_ai_news_json/ai_news_GIST-서울대병원, 비용 줄이고 정확도 높인 3차원 암 게놈 예측 AI 기술 개발.json\n",
      "원본 파일 저장 완료: raw_ai_news_json/ai_news_SK하이닉스, HBM 등 AI 혁신 차세대 메모리 솔루션 선보여.json\n",
      "요약된 파일 저장 완료: sum_ai_news_json/ai_news_SK하이닉스, HBM 등 AI 혁신 차세대 메모리 솔루션 선보여.json\n",
      "원본 파일 저장 완료: raw_ai_news_json/ai_news_세종대왕이 권하는 아리수...서울, 생성 AI 광고 소개.json\n",
      "요약된 파일 저장 완료: sum_ai_news_json/ai_news_세종대왕이 권하는 아리수...서울, 생성 AI 광고 소개.json\n",
      "원본 파일 저장 완료: raw_ai_news_json/ai_news_AI로 존 레논 목소리 살려낸 비틀즈...'마지막 노래' 다음 주 발표.json\n",
      "요약된 파일 저장 완료: sum_ai_news_json/ai_news_AI로 존 레논 목소리 살려낸 비틀즈...'마지막 노래' 다음 주 발표.json\n",
      "원본 파일 저장 완료: raw_ai_news_json/ai_news_증평군 \"신재생에너지 융복합 A등급 선정...국비 10.9억 확보\".json\n",
      "요약된 파일 저장 완료: sum_ai_news_json/ai_news_증평군 \"신재생에너지 융복합 A등급 선정...국비 10.9억 확보\".json\n",
      "원본 파일 저장 완료: raw_ai_news_json/ai_news_삼바노바, 초당 1000개 토큰 처리로 추론 성능 세계 기록 달성.json\n",
      "요약된 파일 저장 완료: sum_ai_news_json/ai_news_삼바노바, 초당 1000개 토큰 처리로 추론 성능 세계 기록 달성.json\n",
      "원본 파일 저장 완료: raw_ai_news_json/ai_news_마키나락스, ‘산업특화 AI 최초’ 기술성평가 A-A…\"상반기 상장예비심사 신청\".json\n",
      "요약된 파일 저장 완료: sum_ai_news_json/ai_news_마키나락스, ‘산업특화 AI 최초’ 기술성평가 A-A…\"상반기 상장예비심사 신청\".json\n",
      "원본 파일 저장 완료: raw_ai_news_json/ai_news_알체라, 글로벌 기업과 산불 진화 자율비행 테스트 참여.json\n",
      "요약된 파일 저장 완료: sum_ai_news_json/ai_news_알체라, 글로벌 기업과 산불 진화 자율비행 테스트 참여.json\n",
      "원본 파일 저장 완료: raw_ai_news_json/ai_news_역시 고양이는 못 참지!.json\n",
      "요약된 파일 저장 완료: sum_ai_news_json/ai_news_역시 고양이는 못 참지!.json\n",
      "원본 파일 저장 완료: raw_ai_news_json/ai_news_MS, 군사용 도구로 오픈AI '달리' 판매 시도.json\n",
      "요약된 파일 저장 완료: sum_ai_news_json/ai_news_MS, 군사용 도구로 오픈AI '달리' 판매 시도.json\n",
      "원본 파일 저장 완료: raw_ai_news_json/ai_news_태양광산업협회, 박종환 6대 협회장 취임.json\n",
      "요약된 파일 저장 완료: sum_ai_news_json/ai_news_태양광산업협회, 박종환 6대 협회장 취임.json\n",
      "원본 파일 저장 완료: raw_ai_news_json/ai_news_\"영농형 태양광으로 그린 수소 생산\"...프랑스, 재생 에너지 프로젝트 추진.json\n",
      "요약된 파일 저장 완료: sum_ai_news_json/ai_news_\"영농형 태양광으로 그린 수소 생산\"...프랑스, 재생 에너지 프로젝트 추진.json\n",
      "원본 파일 저장 완료: raw_ai_news_json/ai_news_NC문화재단, AI 윤리정보 포털 ‘페어 AI’ 오픈.json\n",
      "요약된 파일 저장 완료: sum_ai_news_json/ai_news_NC문화재단, AI 윤리정보 포털 ‘페어 AI’ 오픈.json\n",
      "원본 파일 저장 완료: raw_ai_news_json/ai_news_플랜바이테크놀로지스, 건축디자인 생성 AI로 '딥테크 팁스' 선정.json\n",
      "요약된 파일 저장 완료: sum_ai_news_json/ai_news_플랜바이테크놀로지스, 건축디자인 생성 AI로 '딥테크 팁스' 선정.json\n",
      "원본 파일 저장 완료: raw_ai_news_json/ai_news_\"빅테크, 5년 내 AI 투자액 5배 증가 예상...연간 1360조 달할 것\".json\n",
      "요약된 파일 저장 완료: sum_ai_news_json/ai_news_\"빅테크, 5년 내 AI 투자액 5배 증가 예상...연간 1360조 달할 것\".json\n",
      "원본 파일 저장 완료: raw_ai_news_json/ai_news_큐빅 \"합성 데이터로 글로벌 시장 개척할 것\".json\n",
      "요약된 파일 저장 완료: sum_ai_news_json/ai_news_큐빅 \"합성 데이터로 글로벌 시장 개척할 것\".json\n",
      "원본 파일 저장 완료: raw_ai_news_json/ai_news_미국, 첨단 칩 공장에 보조금 지원…인텔·TSMC·삼성전자 등 후보 거론.json\n",
      "요약된 파일 저장 완료: sum_ai_news_json/ai_news_미국, 첨단 칩 공장에 보조금 지원…인텔·TSMC·삼성전자 등 후보 거론.json\n",
      "원본 파일 저장 완료: raw_ai_news_json/ai_news_손가락 그림자 읽고 '챗GPT'로 이야기 만들어주는 기계.json\n",
      "요약된 파일 저장 완료: sum_ai_news_json/ai_news_손가락 그림자 읽고 '챗GPT'로 이야기 만들어주는 기계.json\n",
      "원본 파일 저장 완료: raw_ai_news_json/ai_news_SKT, AI 거버넌스 원칙  ‘T.H.E AI’ 공개...제40기 정기 주주총회 개최.json\n",
      "요약된 파일 저장 완료: sum_ai_news_json/ai_news_SKT, AI 거버넌스 원칙  ‘T.H.E AI’ 공개...제40기 정기 주주총회 개최.json\n",
      "원본 파일 저장 완료: raw_ai_news_json/ai_news_인피닉, 국제 학술지 IEEE에 군중 개별 위치 예측 논문 게재.json\n",
      "요약된 파일 저장 완료: sum_ai_news_json/ai_news_인피닉, 국제 학술지 IEEE에 군중 개별 위치 예측 논문 게재.json\n"
     ]
    }
   ],
   "source": [
    "from langchain_openai import ChatOpenAI\n",
    "from langchain_core.messages import HumanMessage\n",
    "import os\n",
    "from dotenv import load_dotenv\n",
    "import shutil\n",
    "\n",
    "load_dotenv() \n",
    "api_key = os.getenv(\"OPEN_API_KEY\")\n",
    "\n",
    "# 모델 초기화\n",
    "model = ChatOpenAI(temperature=0, model=\"gpt-4o-mini\", api_key=api_key)\n",
    "\n",
    "from langchain_openai import ChatOpenAI\n",
    "from langchain.schema import SystemMessage, HumanMessage, AIMessage\n",
    "\n",
    "# 요약 함수 정의 (이미 제공된 함수)\n",
    "def make_summarized_content(content: str) -> str:\n",
    "    system_message = SystemMessage(content=\"You are a summarizing AI. Please answer in Korean. Please reply only based inputs.\")\n",
    "    messages = [system_message]\n",
    "\n",
    "    messages.append(HumanMessage(content=content))\n",
    "    response = model.invoke(messages)\n",
    "\n",
    "    reply = response.content\n",
    "    messages.append(AIMessage(content=reply))\n",
    "\n",
    "    return reply\n",
    "\n",
    "\n",
    "# 기존 뉴스 데이터 디렉터리와 새로운 디렉터리 경로 설정\n",
    "news_path = \"ai_news_json\"\n",
    "raw_news_path = \"raw_ai_news_json\"\n",
    "summarized_news_path = \"sum_ai_news_json\"\n",
    "\n",
    "# 새로운 디렉터리 생성\n",
    "os.makedirs(raw_news_path, exist_ok=True)\n",
    "os.makedirs(summarized_news_path, exist_ok=True)\n",
    "\n",
    "# 최대 처리할 파일 개수\n",
    "max_files = 100\n",
    "processed_count = 0\n",
    "# 최대 처리할 파일 개수\n",
    "max_files = 100\n",
    "processed_count = 0\n",
    "\n",
    "# 모든 JSON 파일 읽고 원본 및 요약 처리 후 저장\n",
    "for filename in os.listdir(news_path):\n",
    "    if processed_count >= max_files:  # 100개 파일까지만 처리\n",
    "        break\n",
    "    \n",
    "    if filename.endswith(\".json\"):  # .json 파일만 처리\n",
    "        file_path = os.path.join(news_path, filename)\n",
    "        \n",
    "        # 원본 파일을 raw 디렉터리에 복사\n",
    "        raw_file_path = os.path.join(raw_news_path, filename)\n",
    "        shutil.copy(file_path, raw_file_path)\n",
    "        print(f\"원본 파일 저장 완료: {raw_file_path}\")\n",
    "        \n",
    "        # JSON 파일 읽기\n",
    "        with open(file_path, 'r', encoding='utf-8') as file:\n",
    "            article_json = json.load(file)\n",
    "        \n",
    "        # content 컬럼만 요약 처리\n",
    "        if \"content\" in article_json and article_json[\"content\"]:\n",
    "            article_json[\"content\"] = make_summarized_content(article_json[\"content\"])\n",
    "        \n",
    "        # 요약된 데이터를 새로운 디렉터리에 저장\n",
    "        summarized_file_path = os.path.join(summarized_news_path, filename)\n",
    "        with open(summarized_file_path, 'w', encoding='utf-8') as file:\n",
    "            json.dump(article_json, file, ensure_ascii=False, indent=4)\n",
    "\n",
    "        print(f\"요약된 파일 저장 완료: {summarized_file_path}\")\n",
    "        processed_count += 1"
   ]
  },
  {
   "cell_type": "code",
   "execution_count": null,
   "metadata": {},
   "outputs": [],
   "source": [
    "def save_file(txt:str, file_name:str):\n",
    "\n",
    "    with open(file_name, 'w', encoding='utf-8') as content_file:\n",
    "        content_file.write(txt)\n",
    "\n",
    "    print(f\"TEXT 파일 저장 완료: {file_name}\")"
   ]
  },
  {
   "cell_type": "code",
   "execution_count": null,
   "metadata": {},
   "outputs": [],
   "source": [
    "def save_json(txt:str, file_name:str):\n",
    "\n",
    "    with open(file_name, 'w', encoding='utf-8') as content_file:\n",
    "        content_file.write(txt)\n",
    "\n",
    "    print(f\"JSON 파일 저장 완료: {file_name}\")"
   ]
  },
  {
   "cell_type": "code",
   "execution_count": 3,
   "metadata": {},
   "outputs": [
    {
     "data": {
      "text/plain": [
       "0     '챗GPT'를 무단으로 사용하면 이를 감지해 차단해주는 보안 솔루션이 나왔다. 기업...\n",
       "1     샘 알트먼 오픈AI CEO가 대니얼 루리 차기 샌프란시스코 시장을 돕게 됐다. 이는...\n",
       "2     \"전시 중인 샘플까지 떼어갈 기세라 애를 먹었습니다. 다음에는 본격 현장 판매라도 ...\n",
       "3     LG AI 연구원이 세계 최고 수준의 '바이오 케미컬 대형언어모델(LLM)'을 만들...\n",
       "4     인공지능(AI) 전문 솔트룩스(대표 이경일)는 기업 콘텐츠 관리 분야 대형언어모델(...\n",
       "                            ...                        \n",
       "95                AI타임스 조예주 기자 joyejuoffice@aitimes.com\n",
       "96    융복합 콘텐츠 전문 상화(대표 정범준)는 서울시가 진행하는 '플레이어블 서울 프로젝...\n",
       "97    1세대 의료 인공지능(AI) 전문 딥노이드(대표 최우식)는 '제50차 대한암학회 학...\n",
       "98                AI타임스 조예주 기자 joyejuoffice@aitimes.com\n",
       "99    이스트소프트(대표 정상원)가 올해 새롭게 론칭한 인공지능(AI) 휴먼 서비스로 성장...\n",
       "Name: content, Length: 100, dtype: object"
      ]
     },
     "execution_count": 3,
     "metadata": {},
     "output_type": "execute_result"
    }
   ],
   "source": [
    "raw_articles = all_articles.loc[:99, \"content\"]\n",
    "raw_articles"
   ]
  },
  {
   "cell_type": "code",
   "execution_count": 4,
   "metadata": {},
   "outputs": [
    {
     "name": "stdout",
     "output_type": "stream",
     "text": [
      "TEXT 파일 저장 완료: raw_text.txt\n"
     ]
    }
   ],
   "source": [
    "save_file('\\n\\n'.join(raw_articles), \"raw_text.txt\")"
   ]
  },
  {
   "cell_type": "code",
   "execution_count": 5,
   "metadata": {},
   "outputs": [
    {
     "data": {
      "text/plain": [
       "0     '챗GPT'를 무단으로 사용하면 이를 감지해 차단해주는 보안 솔루션이 나왔다. 기업...\n",
       "1     샘 알트먼 오픈AI CEO가 대니얼 루리 차기 샌프란시스코 시장을 돕게 됐다. 이는...\n",
       "2     \"전시 중인 샘플까지 떼어갈 기세라 애를 먹었습니다. 다음에는 본격 현장 판매라도 ...\n",
       "3     LG AI 연구원이 세계 최고 수준의 '바이오 케미컬 대형언어모델(LLM)'을 만들...\n",
       "4     인공지능(AI) 전문 솔트룩스(대표 이경일)는 기업 콘텐츠 관리 분야 대형언어모델(...\n",
       "                            ...                        \n",
       "95                AI타임스 조예주 기자 joyejuoffice@aitimes.com\n",
       "96    융복합 콘텐츠 전문 상화(대표 정범준)는 서울시가 진행하는 '플레이어블 서울 프로젝...\n",
       "97    1세대 의료 인공지능(AI) 전문 딥노이드(대표 최우식)는 '제50차 대한암학회 학...\n",
       "98                AI타임스 조예주 기자 joyejuoffice@aitimes.com\n",
       "99    이스트소프트(대표 정상원)가 올해 새롭게 론칭한 인공지능(AI) 휴먼 서비스로 성장...\n",
       "Name: content, Length: 100, dtype: object"
      ]
     },
     "execution_count": 5,
     "metadata": {},
     "output_type": "execute_result"
    }
   ],
   "source": [
    "summerized_articles = raw_articles.copy()\n",
    "summerized_articles"
   ]
  },
  {
   "cell_type": "code",
   "execution_count": 6,
   "metadata": {},
   "outputs": [],
   "source": [
    "import os\n",
    "from dotenv import load_dotenv\n",
    "\n",
    "load_dotenv() \n",
    "api_key = os.getenv(\"OPEN_API_KEY\")"
   ]
  },
  {
   "cell_type": "code",
   "execution_count": 7,
   "metadata": {},
   "outputs": [],
   "source": [
    "from langchain_openai import ChatOpenAI\n",
    "from langchain_core.messages import HumanMessage\n",
    "\n",
    "# 모델 초기화\n",
    "model = ChatOpenAI(temperature=0, model=\"gpt-4o-mini\", api_key=api_key)"
   ]
  },
  {
   "cell_type": "code",
   "execution_count": 8,
   "metadata": {},
   "outputs": [],
   "source": [
    "from langchain_openai import ChatOpenAI\n",
    "from langchain.schema import SystemMessage, HumanMessage, AIMessage\n",
    "\n",
    "def make_summerized_content(content:str) -> str:\n",
    "    system_message = SystemMessage(content=\"You are a summerizing AI. Please answer in Korean. Please reply only based inputs.\")\n",
    "    messages = [system_message]\n",
    "\n",
    "    messages.append(HumanMessage(content=content))\n",
    "    response = model.invoke(messages)\n",
    "    \n",
    "    reply = response.content\n",
    "    messages.append(AIMessage(content=reply))\n",
    "\n",
    "    return reply"
   ]
  },
  {
   "cell_type": "code",
   "execution_count": 9,
   "metadata": {},
   "outputs": [
    {
     "data": {
      "text/plain": [
       "0     챗GPT의 무단 사용을 감지하고 차단하는 보안 솔루션 '트러스트 제로'가 출시됐다....\n",
       "1     샘 알트먼 오픈AI CEO가 대니얼 루리 차기 샌프란시스코 시장의 인수위원회 공동 ...\n",
       "2     파루 인쇄전자는 CES 2024에서 프리미엄 온열 브랜드 '잉코(INKO)' 제품을...\n",
       "3     LG AI 연구원이 세계 최고 수준의 '바이오 케미컬 대형언어모델(LLM)' 개발을...\n",
       "4     인공지능 전문 기업 솔트룩스가 문서중앙화 전문 기업 사이버다임과 업무협약을 체결했다...\n",
       "                            ...                        \n",
       "95    조예주 기자는 AI타임스에서 활동하고 있으며, 이메일 주소는 joyejuoffice...\n",
       "96    융복합 콘텐츠 전문 상화(대표 정범준)는 서울시의 '플레이어블 서울 프로젝트'에서 ...\n",
       "97    딥노이드가 '제50차 대한암학회 학술대회(KCA 2024)'에서 최우수 포스터상을 ...\n",
       "98    조예주 기자는 AI타임스에서 활동하고 있으며, 이메일 주소는 joyejuoffice...\n",
       "99    이스트소프트가 AI 휴먼 서비스로 성장세를 이어가고 있으며, 2023년 2분기 매출...\n",
       "Name: content, Length: 100, dtype: object"
      ]
     },
     "execution_count": 9,
     "metadata": {},
     "output_type": "execute_result"
    }
   ],
   "source": [
    "for i in range(len(summerized_articles)):\n",
    "    summerized_articles[i] = make_summerized_content(summerized_articles[i])\n",
    "\n",
    "summerized_articles"
   ]
  },
  {
   "cell_type": "code",
   "execution_count": null,
   "metadata": {},
   "outputs": [],
   "source": [
    "def get_article_info(url:str) -> json:\n",
    "\n",
    "    headers = {\n",
    "        'User-Agent': 'Mozilla/5.0 (Windows NT 10.0; Win64; x64) AppleWebKit/537.36 (KHTML, like Gecko) Chrome/120.0.0.0 Safari/537.36'\n",
    "    }\n",
    "\n",
    "    try:\n",
    "        response = requests.get(url, headers=headers)\n",
    "        soup = BeautifulSoup(response.text, 'html.parser')\n",
    "\n",
    "\n",
    "        heading_div = soup.find(\"header\", class_=\"article-view-header\")\n",
    "        title = heading_div.find(\"h3\", class_=\"heading\").get_text(strip=True)\n",
    "        created_at = heading_div.find_all(\"li\")[4].get_text(strip=True)[3:]\n",
    "\n",
    "        # `article-view-content-div` id를 가진 article 태그 찾기\n",
    "        content_div = soup.find(\"article\", id=\"article-view-content-div\")\n",
    "\n",
    "        # <p> 태그들 추출\n",
    "        articles = content_div.find_all(\"p\") if content_div else []\n",
    "\n",
    "        # 문자열만 추출하여 리스트 생성\n",
    "        text_list = [p.get_text(strip=True) for p in articles]\n",
    "        content = ' '.join(text_list)\n",
    "\n",
    "        # JSON 형식으로 반환\n",
    "        article_info = {\n",
    "            \"url\" : url,\n",
    "            \"title\": title,\n",
    "            \"created_at\": created_at,\n",
    "            \"content\": content\n",
    "        }\n",
    "\n",
    "        return article_info\n",
    "    \n",
    "    except requests.exceptions.RequestException as e:\n",
    "        print(f\"URL {url} 요청 중 에러 발생: {e}\")\n",
    "        return {\"error\": \"요청 실패\", \"details\": str(e)}"
   ]
  },
  {
   "cell_type": "code",
   "execution_count": null,
   "metadata": {},
   "outputs": [],
   "source": [
    "import json\n",
    "import os\n",
    "\n",
    "all_articles_url = all_articles  # URL 리스트 (선언 필요)\n",
    "\n",
    "all_articles_content = []\n",
    "article_path = \"sum_ai_news_json\"\n",
    "\n",
    "# 경로가 없으면 생성\n",
    "if not os.path.exists(article_path):\n",
    "    os.makedirs(article_path)\n",
    "\n",
    "for url in all_articles_url:\n",
    "    article_json = get_article_info(url)  # URL에서 기사 데이터 가져오기\n",
    "\n",
    "    # 파일 이름 생성\n",
    "    file_name = f\"ai_news_{article_json.get('title').replace('/', '_')}.json\"\n",
    "    file_path = os.path.join(article_path, file_name)\n",
    "\n",
    "    # JSON 파일 저장\n",
    "    with open(file_path, 'w', encoding='utf-8') as file:\n",
    "        json.dump(article_json, file, ensure_ascii=False, indent=4)\n",
    "\n",
    "    print(f\"파일 저장 완료: {file_path}\")"
   ]
  },
  {
   "cell_type": "code",
   "execution_count": 10,
   "metadata": {},
   "outputs": [
    {
     "name": "stdout",
     "output_type": "stream",
     "text": [
      "TEXT 파일 저장 완료: summerized_text.txt\n"
     ]
    }
   ],
   "source": [
    "save_file('\\n\\n'.join(summerized_articles), \"summerized_text.txt\")"
   ]
  },
  {
   "cell_type": "code",
   "execution_count": 13,
   "metadata": {},
   "outputs": [],
   "source": [
    "from langchain_openai import OpenAIEmbeddings\n",
    "from langchain_community.vectorstores import FAISS\n",
    "from langchain_text_splitters import RecursiveCharacterTextSplitter\n",
    "from langchain.schema import Document\n",
    "\n",
    "def get_retriever(texts:str):\n",
    "\n",
    "    # text_list를 Document 객체로 변환\n",
    "    documents = [Document(page_content=texts)]\n",
    "\n",
    "    recursive_text_splitter = RecursiveCharacterTextSplitter(\n",
    "    chunk_size=200,\n",
    "    chunk_overlap=20,\n",
    "    length_function=len,\n",
    "    is_separator_regex=False,\n",
    "    )\n",
    "\n",
    "    splits_recur = recursive_text_splitter.split_documents(documents)\n",
    "    splits = splits_recur\n",
    "\n",
    "    embeddings = OpenAIEmbeddings(model=\"text-embedding-ada-002\", api_key=api_key)\n",
    "    vectorstore = FAISS.from_documents(documents=splits, embedding=embeddings)\n",
    "\n",
    "    return vectorstore.as_retriever()\n"
   ]
  },
  {
   "cell_type": "code",
   "execution_count": 14,
   "metadata": {},
   "outputs": [],
   "source": [
    "raw_retriever = get_retriever('\\n\\n'.join(raw_articles))\n",
    "summerized_retriever = get_retriever('\\n\\n'.join(summerized_articles))"
   ]
  },
  {
   "cell_type": "code",
   "execution_count": 15,
   "metadata": {},
   "outputs": [
    {
     "name": "stdout",
     "output_type": "stream",
     "text": [
      "================= retriever 불러오기 완료  ===============\n",
      "================= rag_chain 불러오기 완료  ===============\n",
      "question: 대한민국 교육박람회에 대해 알려줘\n",
      "Debug Output: 대한민국 교육박람회에 대해 알려줘\n",
      "Debug Output: {'context': [Document(metadata={}, page_content=\"제21회 대한민국 교육박람회가 17일 서울 강남구 코엑스에서 시작되었으며, 19일까지 진행된다. 이번 행사에는 420개사가 참여하고, 아시아 최대 규모로 교육 트렌드와 에듀테크를 소개한다. '교육이 미래다'라는 주제로 AI, 메타버스, XR 기술이 접목된 다양한 솔루션이 선보였다. 구글의 '클래스룸'은 AI를 활용해 교사의 수업 준비와 학생 피드백을\"), Document(metadata={}, page_content='산업통상자원부는 판교 한국반도체산업협회에서 반도체아카데미 입교식을 개최했다고 밝혔다. 이번 행사에는 100여 명의 산학 관계자와 교육생이 참석했으며, 아카데미는 반도체 인력 부족 해소를 위해 실습 중심의 교육과정을 운영한다. 지난해 12월 출범한 아카데미는 현재까지 600명이 온라인 교육을 수강 중이며, 오프라인 심화 과정도 진행 중이다. 산업부 국장은'), Document(metadata={}, page_content='과정도 진행 중이다. 산업부 국장은 우수 인재 양성이 중요하다고 강조하며, 기업과 대학 간 협업의 필요성을 언급했다.'), Document(metadata={}, page_content=\"무대로 변신한다. 놀이존은 광화문 광장에 '빛의 놀이터'를 조성하며, 디지털 라이팅 기술을 활용한 전통 놀이 체험 콘텐츠를 제공한다. 정범준 대표는 서울의 즐거움과 매력을 알릴 기회로 삼겠다고 밝혔다.\")], 'question': '대한민국 교육박람회에 대해 알려줘'}\n",
      "RAG response : 제21회 대한민국 교육박람회는 17일 서울 강남구 코엑스에서 시작되어 19일까지 진행됩니다. 이번 행사에는 420개사가 참여하며, 아시아 최대 규모로 교육 트렌드와 에듀테크를 소개합니다. '교육이 미래다'라는 주제로 AI, 메타버스, XR 기술이 접목된 다양한 솔루션이 선보이고 있습니다.\n",
      "question: 클로이에 대해 알려줘\n",
      "Debug Output: 클로이에 대해 알려줘\n",
      "Debug Output: {'context': [Document(metadata={}, page_content='제공하여 정보 검색 시간을 단축하고 업무 효율성을 높인다. 클라썸은 2018년 설립된 에듀테크 기업으로, 현재 32개국 1만1000여 개 기관에서 사용되고 있으며, 올해 말까지 무료 서비스를 제공할 예정이다. 이채린 대표는 AI 기술력을 통해 기업의 핵심 경쟁력을 강화할 것이라고 말했다.'), Document(metadata={}, page_content='클론 제작에 동의했는지는 알려지지 않았다. CAA의 알렉산드라 섀넌은 기술의 오용 문제를 언급하며, 창의성의 확대를 목표로 하고 있다고 밝혔다. 최근 할리우드에서는 AI에 대한 거부감이 줄어들고 있으며, 오픈AI와 메타 등 여러 AI 회사들이 제작사와 협력하고 있다. CAA는 윤리적으로 운영되는 회사와 협력하고 싶다고 강조하며, 이 분야에서의 경쟁이'), Document(metadata={}, page_content=\"융복합 콘텐츠 전문 상화(대표 정범준)는 서울시의 '플레이어블 서울 프로젝트'에서 '예술존'과 '놀이존' 사업자로 선정되었다. 이 프로젝트는 시민과 관광객이 체험형 콘텐츠를 즐길 수 있도록 하는 것으로, 예술존은 대학로 마로니에공원과 홍대 레드로드에 '그림자 무대'를 조성하여 운영한다. 낮에는 감성 포토존으로, 밤에는 그림자놀이 무대로 변신한다. 놀이존은\"), Document(metadata={}, page_content='비교 평가의 객관성을 환영하면서도, 모델의 정확한 사이즈와 비교 방법에 대한 의문을 제기했다. 유강민 네이버클라우드 리더는 하이퍼클로바X가 다국어 능력과 기계 번역 능력을 갖추고 있음을 강조했다.')], 'question': '클로이에 대해 알려줘'}\n",
      "RAG response : 제공된 컨텍스트에는 \"클로이\"에 대한 정보가 포함되어 있지 않습니다. 따라서 클로이에 대한 구체적인 내용을 제공할 수 없습니다.\n"
     ]
    }
   ],
   "source": [
    "print(\"================= retriever 불러오기 완료  ===============\")\n",
    "\n",
    "from langchain_core.prompts import ChatPromptTemplate\n",
    "from langchain_core.runnables import RunnablePassthrough\n",
    "from langchain_openai import ChatOpenAI\n",
    "\n",
    "# 모델 초기화\n",
    "model = ChatOpenAI(temperature=0, model=\"gpt-4o-mini\", api_key=api_key)\n",
    "\n",
    "contextual_prompt = ChatPromptTemplate.from_messages([\n",
    "    (\"system\", \"\"\"\n",
    "     Answer the question using only the following context.\n",
    "     \"\"\"),\n",
    "    (\"user\", \"Context: {context}\\\\n\\\\nQuestion: {question}\")\n",
    "])\n",
    "\n",
    "\n",
    "class DebugPassThrough(RunnablePassthrough):\n",
    "    def invoke(self, *args, **kwargs):\n",
    "        output = super().invoke(*args, **kwargs)\n",
    "        print(\"Debug Output:\", output)\n",
    "        return output\n",
    "    \n",
    "    \n",
    "# 문서 리스트를 텍스트로 변환하는 단계 추가\n",
    "class ContextToText(RunnablePassthrough):\n",
    "    def invoke(self, inputs, config=None, **kwargs):  # config 인수 추가\n",
    "        # context의 각 문서를 문자열로 결합\n",
    "        context_text = \"\\n\".join([doc.page_content for doc in inputs[\"context\"]])\n",
    "        return {\"context\": context_text, \"question\": inputs[\"question\"]}\n",
    "\n",
    "# RAG 체인에서 각 단계마다 DebugPassThrough 추가\n",
    "raw_rag_chain_debug = {\n",
    "    \"context\": raw_retriever,                    # 컨텍스트를 가져오는 retriever\n",
    "    \"question\": DebugPassThrough()        # 사용자 질문이 그대로 전달되는지 확인하는 passthrough\n",
    "}  | DebugPassThrough() | ContextToText()|   contextual_prompt | model\n",
    "\n",
    "\n",
    "# RAG 체인에서 각 단계마다 DebugPassThrough 추가\n",
    "summerized_rag_chain_debug = {\n",
    "    \"context\": summerized_retriever,                    # 컨텍스트를 가져오는 retriever\n",
    "    \"question\": DebugPassThrough()        # 사용자 질문이 그대로 전달되는지 확인하는 passthrough\n",
    "}  | DebugPassThrough() | ContextToText()|   contextual_prompt | model\n",
    "\n",
    "print(\"================= rag_chain 불러오기 완료  ===============\")\n",
    "\n",
    "while True:\n",
    "    query = input(\"질문을 입력하세요! 종료를 원한다면 exit을 입력하세요.\")\n",
    "    if query == \"exit\":\n",
    "        break\n",
    "    print(\"question: \" + query)\n",
    "    \n",
    "    response = summerized_rag_chain_debug.invoke(query)\n",
    "    print(\"RAG response : \" + response.content)"
   ]
  },
  {
   "cell_type": "code",
   "execution_count": null,
   "metadata": {},
   "outputs": [],
   "source": []
  }
 ],
 "metadata": {
  "kernelspec": {
   "display_name": "agentenv",
   "language": "python",
   "name": "python3"
  },
  "language_info": {
   "codemirror_mode": {
    "name": "ipython",
    "version": 3
   },
   "file_extension": ".py",
   "mimetype": "text/x-python",
   "name": "python",
   "nbconvert_exporter": "python",
   "pygments_lexer": "ipython3",
   "version": "3.12.2"
  }
 },
 "nbformat": 4,
 "nbformat_minor": 2
}
